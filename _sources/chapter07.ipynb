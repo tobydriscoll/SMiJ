{
 "cells": [
  {
   "cell_type": "markdown",
   "id": "de86b07b",
   "metadata": {},
   "source": [
    "# BVPs"
   ]
  },
  {
   "cell_type": "code",
   "execution_count": 1,
   "id": "f6e84a12",
   "metadata": {},
   "outputs": [
    {
     "ename": "LoadError",
     "evalue": "LoadError: ArgumentError: Package FFTW [7a1cc6ca-52ef-59f5-83cd-3a7055c09341] is required but does not seem to be installed:\n - Run `Pkg.instantiate()` to install all recorded dependencies.\n\nin expression starting at /Users/driscoll/repos/SMiJ/pages/smij-functions.jl:1",
     "output_type": "error",
     "traceback": [
      "LoadError: ArgumentError: Package FFTW [7a1cc6ca-52ef-59f5-83cd-3a7055c09341] is required but does not seem to be installed:\n - Run `Pkg.instantiate()` to install all recorded dependencies.\n\nin expression starting at /Users/driscoll/repos/SMiJ/pages/smij-functions.jl:1",
      "",
      "Stacktrace:",
      " [1] _require(pkg::Base.PkgId)",
      "   @ Base ./loading.jl:1306",
      " [2] _require_prelocked(uuidkey::Base.PkgId)",
      "   @ Base ./loading.jl:1200",
      " [3] macro expansion",
      "   @ ./loading.jl:1180 [inlined]",
      " [4] macro expansion",
      "   @ ./lock.jl:223 [inlined]",
      " [5] require(into::Module, mod::Symbol)",
      "   @ Base ./loading.jl:1144",
      " [6] include(fname::String)",
      "   @ Base.MainInclude ./client.jl:476",
      " [7] top-level scope",
      "   @ In[1]:1",
      " [8] eval",
      "   @ ./boot.jl:368 [inlined]",
      " [9] include_string(mapexpr::typeof(REPL.softscope), mod::Module, code::String, filename::String)",
      "   @ Base ./loading.jl:1428"
     ]
    }
   ],
   "source": [
    "include(\"smij-functions.jl\");"
   ]
  },
  {
   "cell_type": "markdown",
   "id": "f8cc7271",
   "metadata": {},
   "source": [
    "## p13: solve linear BVP $u_{xx} = \\exp(4x),\\; u(-1)=u(1)=0$"
   ]
  },
  {
   "cell_type": "code",
   "execution_count": 2,
   "id": "87adaf43",
   "metadata": {},
   "outputs": [
    {
     "ename": "LoadError",
     "evalue": "UndefVarError: cheb not defined",
     "output_type": "error",
     "traceback": [
      "UndefVarError: cheb not defined",
      "",
      "Stacktrace:",
      " [1] top-level scope",
      "   @ In[2]:2",
      " [2] eval",
      "   @ ./boot.jl:368 [inlined]",
      " [3] include_string(mapexpr::typeof(REPL.softscope), mod::Module, code::String, filename::String)",
      "   @ Base ./loading.jl:1428"
     ]
    }
   ],
   "source": [
    "N = 16\n",
    "D, x = cheb(N)\n",
    "D² = (D^2)[2:N, 2:N]                   # boundary conditions\n",
    "f = @. exp(4x[2:N])\n",
    "u = D² \\ f                           # Poisson eq. solved here\n",
    "u = [0; u; 0]\n",
    "xx = -1:0.01:1\n",
    "uu = polyinterp(x, u).(xx)      # interpolate grid data\n",
    "exact = @. (exp(4xx) - sinh(4) * xx - cosh(4)) / 16\n",
    "err = norm(uu - exact,Inf)"
   ]
  },
  {
   "cell_type": "code",
   "execution_count": 3,
   "id": "04d6f5e6",
   "metadata": {},
   "outputs": [
    {
     "ename": "LoadError",
     "evalue": "ArgumentError: Package CairoMakie [13f3f980-e62b-5c42-98c6-ff1f3baf88f0] is required but does not seem to be installed:\n - Run `Pkg.instantiate()` to install all recorded dependencies.\n",
     "output_type": "error",
     "traceback": [
      "ArgumentError: Package CairoMakie [13f3f980-e62b-5c42-98c6-ff1f3baf88f0] is required but does not seem to be installed:\n - Run `Pkg.instantiate()` to install all recorded dependencies.\n",
      "",
      "Stacktrace:",
      " [1] _require(pkg::Base.PkgId)",
      "   @ Base ./loading.jl:1306",
      " [2] _require_prelocked(uuidkey::Base.PkgId)",
      "   @ Base ./loading.jl:1200",
      " [3] macro expansion",
      "   @ ./loading.jl:1180 [inlined]",
      " [4] macro expansion",
      "   @ ./lock.jl:223 [inlined]",
      " [5] require(into::Module, mod::Symbol)",
      "   @ Base ./loading.jl:1144",
      " [6] eval",
      "   @ ./boot.jl:368 [inlined]",
      " [7] include_string(mapexpr::typeof(REPL.softscope), mod::Module, code::String, filename::String)",
      "   @ Base ./loading.jl:1428"
     ]
    }
   ],
   "source": [
    "using CairoMakie, PyFormattedStrings\n",
    "\n",
    "fig = Figure()\n",
    "Axis( fig[1, 1], title=f\"max err = {norm(uu-exact,Inf):.4g}\" )\n",
    "scatter!(x, u)\n",
    "lines!(xx, uu) \n",
    "fig"
   ]
  },
  {
   "cell_type": "markdown",
   "id": "9d861d69",
   "metadata": {},
   "source": [
    "## p14: solve nonlinear BVP $u_{xx} = \\exp(u),\\; u(-1)=u(1)=0$"
   ]
  },
  {
   "cell_type": "code",
   "execution_count": 4,
   "id": "9d032120",
   "metadata": {},
   "outputs": [
    {
     "ename": "LoadError",
     "evalue": "UndefVarError: cheb not defined",
     "output_type": "error",
     "traceback": [
      "UndefVarError: cheb not defined",
      "",
      "Stacktrace:",
      " [1] top-level scope",
      "   @ In[4]:2",
      " [2] eval",
      "   @ ./boot.jl:368 [inlined]",
      " [3] include_string(mapexpr::typeof(REPL.softscope), mod::Module, code::String, filename::String)",
      "   @ Base ./loading.jl:1428"
     ]
    }
   ],
   "source": [
    "N = 16\n",
    "D, x = cheb(N)\n",
    "D² = (D^2)[2:N, 2:N]\n",
    "u = zeros(N - 1)\n",
    "change = 1\n",
    "it = 0\n",
    "while change > 1e-15                   # fixed-point iteration\n",
    "    unew = D² \\ exp.(u)\n",
    "    change = norm(unew - u, Inf)\n",
    "    u = unew\n",
    "    it += 1\n",
    "end\n",
    "u = [0; u; 0]\n",
    "xx = -1:0.01:1\n",
    "uu = polyinterp(x,u).(xx);"
   ]
  },
  {
   "cell_type": "code",
   "execution_count": 5,
   "id": "243394df",
   "metadata": {},
   "outputs": [
    {
     "ename": "LoadError",
     "evalue": "UndefVarError: Figure not defined",
     "output_type": "error",
     "traceback": [
      "UndefVarError: Figure not defined",
      "",
      "Stacktrace:",
      " [1] top-level scope",
      "   @ In[5]:1",
      " [2] eval",
      "   @ ./boot.jl:368 [inlined]",
      " [3] include_string(mapexpr::typeof(REPL.softscope), mod::Module, code::String, filename::String)",
      "   @ Base ./loading.jl:1428"
     ]
    }
   ],
   "source": [
    "fig = Figure()\n",
    "Axis( fig[1, 1], title=\"no. steps = $it      u(0) = $(u[N÷2+1])\" )\n",
    "scatter!(x, u)\n",
    "lines!(xx, uu)\n",
    "fig"
   ]
  },
  {
   "cell_type": "markdown",
   "id": "eca3aa58",
   "metadata": {},
   "source": [
    "## p15: solve eigenvalue BVP $u_{xx} = \\lambda u, \\; u(-1)=u(1)=0$"
   ]
  },
  {
   "cell_type": "code",
   "execution_count": 6,
   "id": "597938fd",
   "metadata": {},
   "outputs": [
    {
     "ename": "LoadError",
     "evalue": "UndefVarError: cheb not defined",
     "output_type": "error",
     "traceback": [
      "UndefVarError: cheb not defined",
      "",
      "Stacktrace:",
      " [1] top-level scope",
      "   @ In[6]:2",
      " [2] eval",
      "   @ ./boot.jl:368 [inlined]",
      " [3] include_string(mapexpr::typeof(REPL.softscope), mod::Module, code::String, filename::String)",
      "   @ Base ./loading.jl:1428"
     ]
    }
   ],
   "source": [
    "N = 36\n",
    "D, x = cheb(N)\n",
    "D² = (D^2)[2:N, 2:N]\n",
    "λ, V = eigen(D², sortby = (-)∘real)\n",
    "xx = -1:0.01:1\n",
    "results = []\n",
    "for j in 5:5:30                  # plot 6 eigenvectors\n",
    "    u = [0; V[:, j]; 0]\n",
    "    uu = polyinterp(x,u).(xx)\n",
    "    push!(results, (;j,u,uu))\n",
    "end"
   ]
  },
  {
   "cell_type": "code",
   "execution_count": 7,
   "id": "30436131",
   "metadata": {},
   "outputs": [
    {
     "ename": "LoadError",
     "evalue": "ArgumentError: Package Makie not found in current path.\n- Run `import Pkg; Pkg.add(\"Makie\")` to install the Makie package.",
     "output_type": "error",
     "traceback": [
      "ArgumentError: Package Makie not found in current path.\n- Run `import Pkg; Pkg.add(\"Makie\")` to install the Makie package.",
      "",
      "Stacktrace:",
      " [1] macro expansion",
      "   @ ./loading.jl:1163 [inlined]",
      " [2] macro expansion",
      "   @ ./lock.jl:223 [inlined]",
      " [3] require(into::Module, mod::Symbol)",
      "   @ Base ./loading.jl:1144",
      " [4] eval",
      "   @ ./boot.jl:368 [inlined]",
      " [5] include_string(mapexpr::typeof(REPL.softscope), mod::Module, code::String, filename::String)",
      "   @ Base ./loading.jl:1428"
     ]
    }
   ],
   "source": [
    "using Makie.Colors\n",
    "fig = Figure()\n",
    "for (i,r) in enumerate(results)\n",
    "    ax = Axis(fig[i, 1])\n",
    "    scatter!(x, r.u, markersize=8)\n",
    "    line = lines!(xx, r.uu,linealpha=0.5)\n",
    "    color = line.color[]\n",
    "    line.color[] = Colors.RGBA(color.r,color.g,color.b,0.4)\n",
    "    hidespines!(ax); hidedecorations!(ax)\n",
    "    j = r.j\n",
    "    text!(-0.4, 0.12, text=f\"eig {j} = {λ[j]*4/π^2:#.14g} π^2/4\", textsize=20)\n",
    "    text!(0.7, 0.12, text=f\"{4*N/(π*j):.2g} ppw\", textsize=20)\n",
    "end\n",
    "fig"
   ]
  },
  {
   "cell_type": "markdown",
   "id": "6f3f1c90",
   "metadata": {},
   "source": [
    "## p16: Poisson eq. on [-1,1]×[-1,1] with $u=0$ on boundary"
   ]
  },
  {
   "cell_type": "code",
   "execution_count": 8,
   "id": "65d15afa",
   "metadata": {},
   "outputs": [
    {
     "ename": "LoadError",
     "evalue": "UndefVarError: cheb not defined",
     "output_type": "error",
     "traceback": [
      "UndefVarError: cheb not defined",
      "",
      "Stacktrace:",
      " [1] top-level scope",
      "   @ In[8]:4",
      " [2] eval",
      "   @ ./boot.jl:368 [inlined]",
      " [3] include_string(mapexpr::typeof(REPL.softscope), mod::Module, code::String, filename::String)",
      "   @ Base ./loading.jl:1428"
     ]
    }
   ],
   "source": [
    "N = 24\n",
    "# Set up grids and tensor product Laplacian and solve for u:\n",
    "⊗ = kron\n",
    "D, x = D, y = cheb(N)\n",
    "F = [ 10sin(8x * (y - 1)) for x in x[2:N], y in y[2:N] ]\n",
    "D² = (D^2)[2:N, 2:N]\n",
    "L = I(N-1) ⊗ D² + D² ⊗ I(N-1)                     # Laplacian\n",
    "\n",
    "@elapsed u = L \\ vec(F)           # solve problem and watch the clock\n",
    "\n",
    "# Reshape long 1D results onto 2D grid (flipping orientation):\n",
    "U = zeros(N+1, N+1)\n",
    "U[2:N, 2:N] = reshape(u, N-1, N-1)\n",
    "value = U[N÷4 + 1, N÷4 + 1]\n",
    "\n",
    "# Interpolate to finer grid and plot:\n",
    "xx = yy = -1:0.04:1\n",
    "UU = gridinterp(U,xx,yy);"
   ]
  },
  {
   "cell_type": "code",
   "execution_count": 9,
   "id": "2e0620a7",
   "metadata": {},
   "outputs": [
    {
     "ename": "LoadError",
     "evalue": "UndefVarError: Figure not defined",
     "output_type": "error",
     "traceback": [
      "UndefVarError: Figure not defined",
      "",
      "Stacktrace:",
      " [1] top-level scope",
      "   @ In[9]:2",
      " [2] eval",
      "   @ ./boot.jl:368 [inlined]",
      " [3] include_string(mapexpr::typeof(REPL.softscope), mod::Module, code::String, filename::String)",
      "   @ Base ./loading.jl:1428"
     ]
    }
   ],
   "source": [
    "using SparseArrays\n",
    "fig = Figure()\n",
    "Axis(fig[1, 1], title=\"Matrix nonzeros\", aspect=DataAspect())\n",
    "row,col,_ = findnz(sparse(L))\n",
    "scatter!(row, col, markersize=3)\n",
    "ylims!((N-1)^2, 1)\n",
    "fig"
   ]
  },
  {
   "cell_type": "code",
   "execution_count": 10,
   "id": "0bb5057c",
   "metadata": {},
   "outputs": [
    {
     "ename": "LoadError",
     "evalue": "UndefVarError: Figure not defined",
     "output_type": "error",
     "traceback": [
      "UndefVarError: Figure not defined",
      "",
      "Stacktrace:",
      " [1] top-level scope",
      "   @ In[10]:2",
      " [2] eval",
      "   @ ./boot.jl:368 [inlined]",
      " [3] include_string(mapexpr::typeof(REPL.softscope), mod::Module, code::String, filename::String)",
      "   @ Base ./loading.jl:1428"
     ]
    }
   ],
   "source": [
    "using LaTeXStrings\n",
    "fig = Figure()\n",
    "ax3 = Axis3(fig[1, 1], xlabel=\"x\", ylabel=\"y\", zlabel=\"u\")\n",
    "surface!(xx, yy, UU)\n",
    "ax3.azimuth = 6π / 5; ax3.elevation = π / 6\n",
    "val = f\"{value:.11g}\"\n",
    "text!(0.4, -0.3, 0.3, text=latexstring(\"u(2^{-1/2},\\\\,2^{-1/2}) = \"*val))\n",
    "fig"
   ]
  },
  {
   "cell_type": "markdown",
   "id": "1b8d4df9",
   "metadata": {},
   "source": [
    "# p17: Helmholtz eq. $u_{xx} + u_{yy} + k^2 u = f$"
   ]
  },
  {
   "cell_type": "code",
   "execution_count": 11,
   "id": "5274d252",
   "metadata": {},
   "outputs": [
    {
     "ename": "LoadError",
     "evalue": "UndefVarError: cheb not defined",
     "output_type": "error",
     "traceback": [
      "UndefVarError: cheb not defined",
      "",
      "Stacktrace:",
      " [1] top-level scope",
      "   @ In[11]:4",
      " [2] eval",
      "   @ ./boot.jl:368 [inlined]",
      " [3] include_string(mapexpr::typeof(REPL.softscope), mod::Module, code::String, filename::String)",
      "   @ Base ./loading.jl:1428"
     ]
    }
   ],
   "source": [
    "N = 24\n",
    "# Set up spectral grid and tensor product Helmholtz operator:\n",
    "⊗ = kron\n",
    "D, x = D, y = cheb(N)\n",
    "F = [exp(-10 * ((y - 1)^2 + (x - 0.5)^2)) for x in x[2:N], y in y[2:N]]\n",
    "D² = (D^2)[2:N, 2:N]\n",
    "k = 9\n",
    "L = I(N-1) ⊗ D² + D² ⊗ I(N-1) + k^2 * I\n",
    "\n",
    "# Solve for u, reshape to 2D grid, and plot:\n",
    "u = L \\ vec(F)\n",
    "U = zeros(N+1, N+1)\n",
    "U[2:N, 2:N] = reshape(u, N-1, N-1)\n",
    "xx = yy = -1:1/50:1\n",
    "UU = gridinterp(U, xx, yy)\n",
    "value = U[N÷2 + 1, N÷2 + 1]"
   ]
  },
  {
   "cell_type": "code",
   "execution_count": 12,
   "id": "47e8f72b",
   "metadata": {},
   "outputs": [
    {
     "ename": "LoadError",
     "evalue": "UndefVarError: Figure not defined",
     "output_type": "error",
     "traceback": [
      "UndefVarError: Figure not defined",
      "",
      "Stacktrace:",
      " [1] top-level scope",
      "   @ In[12]:1",
      " [2] eval",
      "   @ ./boot.jl:368 [inlined]",
      " [3] include_string(mapexpr::typeof(REPL.softscope), mod::Module, code::String, filename::String)",
      "   @ Base ./loading.jl:1428"
     ]
    }
   ],
   "source": [
    "fig = Figure()\n",
    "Axis(\n",
    "    fig[1, 1], \n",
    "    aspect = DataAspect(), xlabel=\"x\", ylabel=\"y\", \n",
    "    title = f\"u(0,0) = {value:.10f}\"\n",
    ")\n",
    "co = contourf!(xx, yy, UU)\n",
    "Colorbar(fig[1,2], co)\n",
    "fig"
   ]
  }
 ],
 "metadata": {
  "jupytext": {
   "cell_metadata_filter": "-all",
   "formats": "md:myst",
   "text_representation": {
    "extension": ".md",
    "format_name": "myst",
    "format_version": 0.13,
    "jupytext_version": "1.14.0"
   }
  },
  "kernelspec": {
   "display_name": "Julia 1.8.2",
   "language": "julia",
   "name": "julia-1.8"
  },
  "language_info": {
   "file_extension": ".jl",
   "mimetype": "application/julia",
   "name": "julia",
   "version": "1.8.2"
  },
  "source_map": [
   14,
   18,
   20,
   24,
   37,
   45,
   49,
   67,
   73,
   77,
   91,
   106,
   110,
   131,
   141,
   150,
   154,
   173
  ]
 },
 "nbformat": 4,
 "nbformat_minor": 5
}