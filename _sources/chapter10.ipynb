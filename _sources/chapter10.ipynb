{
 "cells": [
  {
   "cell_type": "markdown",
   "id": "3f580bfb",
   "metadata": {},
   "source": [
    "# Time stability"
   ]
  },
  {
   "cell_type": "code",
   "execution_count": 1,
   "id": "1f4a29de",
   "metadata": {},
   "outputs": [
    {
     "ename": "LoadError",
     "evalue": "LoadError: ArgumentError: Package FFTW [7a1cc6ca-52ef-59f5-83cd-3a7055c09341] is required but does not seem to be installed:\n - Run `Pkg.instantiate()` to install all recorded dependencies.\n\nin expression starting at /Users/driscoll/repos/SMiJ/pages/smij-functions.jl:1",
     "output_type": "error",
     "traceback": [
      "LoadError: ArgumentError: Package FFTW [7a1cc6ca-52ef-59f5-83cd-3a7055c09341] is required but does not seem to be installed:\n - Run `Pkg.instantiate()` to install all recorded dependencies.\n\nin expression starting at /Users/driscoll/repos/SMiJ/pages/smij-functions.jl:1",
      "",
      "Stacktrace:",
      " [1] _require(pkg::Base.PkgId)",
      "   @ Base ./loading.jl:1306",
      " [2] _require_prelocked(uuidkey::Base.PkgId)",
      "   @ Base ./loading.jl:1200",
      " [3] macro expansion",
      "   @ ./loading.jl:1180 [inlined]",
      " [4] macro expansion",
      "   @ ./lock.jl:223 [inlined]",
      " [5] require(into::Module, mod::Symbol)",
      "   @ Base ./loading.jl:1144",
      " [6] include(fname::String)",
      "   @ Base.MainInclude ./client.jl:476",
      " [7] top-level scope",
      "   @ In[1]:1",
      " [8] eval",
      "   @ ./boot.jl:368 [inlined]",
      " [9] include_string(mapexpr::typeof(REPL.softscope), mod::Module, code::String, filename::String)",
      "   @ Base ./loading.jl:1428"
     ]
    }
   ],
   "source": [
    "include(\"smij-functions.jl\");"
   ]
  },
  {
   "cell_type": "markdown",
   "id": "071f01f5",
   "metadata": {},
   "source": [
    "## p25: stability regions for ODE formulas"
   ]
  },
  {
   "cell_type": "code",
   "execution_count": 2,
   "id": "bf6273ec",
   "metadata": {},
   "outputs": [
    {
     "ename": "LoadError",
     "evalue": "ArgumentError: Package Polynomials [f27b6e38-b328-58d1-80ce-0feddd5e7a45] is required but does not seem to be installed:\n - Run `Pkg.instantiate()` to install all recorded dependencies.\n",
     "output_type": "error",
     "traceback": [
      "ArgumentError: Package Polynomials [f27b6e38-b328-58d1-80ce-0feddd5e7a45] is required but does not seem to be installed:\n - Run `Pkg.instantiate()` to install all recorded dependencies.\n",
      "",
      "Stacktrace:",
      " [1] _require(pkg::Base.PkgId)",
      "   @ Base ./loading.jl:1306",
      " [2] _require_prelocked(uuidkey::Base.PkgId)",
      "   @ Base ./loading.jl:1200",
      " [3] macro expansion",
      "   @ ./loading.jl:1180 [inlined]",
      " [4] macro expansion",
      "   @ ./lock.jl:223 [inlined]",
      " [5] require(into::Module, mod::Symbol)",
      "   @ Base ./loading.jl:1144",
      " [6] eval",
      "   @ ./boot.jl:368 [inlined]",
      " [7] include_string(mapexpr::typeof(REPL.softscope), mod::Module, code::String, filename::String)",
      "   @ Base ./loading.jl:1428"
     ]
    }
   ],
   "source": [
    "using Polynomials\n",
    "function ABregion(order)\n",
    "    ρ = Polynomial([zeros(order-1);-1;1])\n",
    "    σ = Polynomial( ([1], [-1,3]/2, [5,-16,23]/12)[order] )\n",
    "    z = cis.(2π*(0:360)/360)\n",
    "    return @. ρ(z) / σ(z)\n",
    "end\n",
    "\n",
    "function AMregion(order)\n",
    "    ρ = Polynomial([zeros(order-2);-1;1])\n",
    "    s = ([], [], [-1,8,5]/12, [1,-5,19,9]/24, \n",
    "            [-19,106,-264,646,251]/720, [3/160,-173/1440,241/720,-133/240,1427/1440,95/288])\n",
    "    σ = Polynomial( s[order] )\n",
    "    z = cis.(2π*(0:360)/360)\n",
    "    return @. ρ(z) / σ(z)\n",
    "end\n",
    "\n",
    "function BDregion(order)\n",
    "    z = cis.(2π*(0:360)/360)\n",
    "    d = @. 1 - 1/z\n",
    "    p = Polynomial([0; 1 ./ (1:order)])\n",
    "    return p.(d)\n",
    "end\n",
    "\n",
    "function RKregion(order)\n",
    "    T0 = Polynomial([1/factorial(k) for k in 0:order])\n",
    "    T1 = Polynomial([1/factorial(k) for k in 0:order-1])\n",
    "    z = cis.(2π*(0:360)/360)\n",
    "    W = fill(complex(0.0),360)\n",
    "    w = 0;\n",
    "    for (k,z) in enumerate(z[2:end])\n",
    "        w -= (T0(w) - z^order) / T1(w)\n",
    "        W[k] = w\n",
    "    end\n",
    "    return W\n",
    "end;"
   ]
  },
  {
   "cell_type": "code",
   "execution_count": 3,
   "id": "787790a5",
   "metadata": {},
   "outputs": [
    {
     "ename": "LoadError",
     "evalue": "ArgumentError: Package CairoMakie [13f3f980-e62b-5c42-98c6-ff1f3baf88f0] is required but does not seem to be installed:\n - Run `Pkg.instantiate()` to install all recorded dependencies.\n",
     "output_type": "error",
     "traceback": [
      "ArgumentError: Package CairoMakie [13f3f980-e62b-5c42-98c6-ff1f3baf88f0] is required but does not seem to be installed:\n - Run `Pkg.instantiate()` to install all recorded dependencies.\n",
      "",
      "Stacktrace:",
      " [1] _require(pkg::Base.PkgId)",
      "   @ Base ./loading.jl:1306",
      " [2] _require_prelocked(uuidkey::Base.PkgId)",
      "   @ Base ./loading.jl:1200",
      " [3] macro expansion",
      "   @ ./loading.jl:1180 [inlined]",
      " [4] macro expansion",
      "   @ ./lock.jl:223 [inlined]",
      " [5] require(into::Module, mod::Symbol)",
      "   @ Base ./loading.jl:1144",
      " [6] eval",
      "   @ ./boot.jl:368 [inlined]",
      " [7] include_string(mapexpr::typeof(REPL.softscope), mod::Module, code::String, filename::String)",
      "   @ Base ./loading.jl:1428"
     ]
    }
   ],
   "source": [
    "using CairoMakie\n",
    "using Makie.ColorSchemes\n",
    "\n",
    "colors = ColorSchemes.tol_bright[1:6]\n",
    "\n",
    "data = [\n",
    "    (ABregion, 1:3, [-2.2,0.2,-1.2,1.2]),\n",
    "    (AMregion, 3:6, [-6.3,0.3,-3.3,3.3]),\n",
    "    (BDregion, 1:6, [-12,32,-22,22]),\n",
    "    (RKregion, 1:4, [-5,1,-3,3])\n",
    "]\n",
    "\n",
    "fig = Figure()\n",
    "ax = vec([Axis(fig[j,i], aspect=DataAspect()) for i in 1:2, j in 1:2])\n",
    "for (ax,(kind,orders,limits)) in zip(ax,data)\n",
    "    for order in orders\n",
    "        w = kind(order)\n",
    "        lines!(ax,real(w),imag(w), label=\"$order\", color=colors[order])\n",
    "        limits!(ax,limits...)\n",
    "        vlines!(ax,0, color=:black)\n",
    "    end\n",
    "end\n",
    "\n",
    "Legend(fig[1,3],ax[3])\n",
    "fig"
   ]
  },
  {
   "cell_type": "markdown",
   "id": "349b9d63",
   "metadata": {},
   "source": [
    "## p26: eigenvalues of 2nd-order Chebyshev diff. matrix"
   ]
  },
  {
   "cell_type": "code",
   "execution_count": 4,
   "id": "a1a787f2",
   "metadata": {},
   "outputs": [
    {
     "ename": "LoadError",
     "evalue": "UndefVarError: cheb not defined",
     "output_type": "error",
     "traceback": [
      "UndefVarError: cheb not defined",
      "",
      "Stacktrace:",
      " [1] top-level scope",
      "   @ In[4]:2",
      " [2] eval",
      "   @ ./boot.jl:368 [inlined]",
      " [3] include_string(mapexpr::typeof(REPL.softscope), mod::Module, code::String, filename::String)",
      "   @ Base ./loading.jl:1428"
     ]
    }
   ],
   "source": [
    "N = 60\n",
    "D, x = cheb(N)\n",
    "D² = (D^2)[2:N, 2:N]\n",
    "λ, V = eigen(D², sortby=(-)∘real)\n",
    "\n",
    "xx = -1:0.01:1\n",
    "vN4 = [0; V[:,N ÷ 4 - 1]; 0]\n",
    "vvN4 = polyinterp(x, vN4).(xx)\n",
    "vN = [0; V[:, N-1]; 0];"
   ]
  },
  {
   "cell_type": "code",
   "execution_count": 5,
   "id": "8b246716",
   "metadata": {},
   "outputs": [
    {
     "ename": "LoadError",
     "evalue": "ArgumentError: Package PyFormattedStrings [5f89f4a4-a228-4886-b223-c468a82ed5b9] is required but does not seem to be installed:\n - Run `Pkg.instantiate()` to install all recorded dependencies.\n",
     "output_type": "error",
     "traceback": [
      "ArgumentError: Package PyFormattedStrings [5f89f4a4-a228-4886-b223-c468a82ed5b9] is required but does not seem to be installed:\n - Run `Pkg.instantiate()` to install all recorded dependencies.\n",
      "",
      "Stacktrace:",
      " [1] _require(pkg::Base.PkgId)",
      "   @ Base ./loading.jl:1306",
      " [2] _require_prelocked(uuidkey::Base.PkgId)",
      "   @ Base ./loading.jl:1200",
      " [3] macro expansion",
      "   @ ./loading.jl:1180 [inlined]",
      " [4] macro expansion",
      "   @ ./lock.jl:223 [inlined]",
      " [5] require(into::Module, mod::Symbol)",
      "   @ Base ./loading.jl:1144",
      " [6] eval",
      "   @ ./boot.jl:368 [inlined]",
      " [7] include_string(mapexpr::typeof(REPL.softscope), mod::Module, code::String, filename::String)",
      "   @ Base ./loading.jl:1428"
     ]
    }
   ],
   "source": [
    "using PyFormattedStrings\n",
    "# Plot eigenvalues:\n",
    "fig = Figure()\n",
    "M = maximum(-λ)/N^4\n",
    "ax = Axis(fig[1:2,1], \n",
    "    xscale=log10, yscale=log10, ylabel=\"eigenvalue\",\n",
    "    title=f\"N = {N}       max |λ| = {M:.6f} N⁴\" )\n",
    "    \n",
    "scatter!(-λ, markersize=9)\n",
    "vlines!(ax, 2N / π, linestyle=:dash)\n",
    "text!(2.1N / π, 24, text=\"2π / N\", textsize=14)\n",
    "\n",
    "# Plot eigenmodes N/4 (physical) and N (nonphysical):\n",
    "ax = Axis(fig[3,1], title=\"eigenmode N/4\")\n",
    "lines!(xx, vvN4)\n",
    "scatter!(x, vN4, markersize=8)\n",
    "\n",
    "ax = Axis(fig[4,1], title=\"| eigenmode N |\", yscale=log10)\n",
    "scatter!(x[2:N], abs.(vN[2:N]), markersize=8)\n",
    "fig"
   ]
  },
  {
   "cell_type": "markdown",
   "id": "1ad12c4c",
   "metadata": {},
   "source": [
    "## p27: Solve KdV eq. $u_t + uu_x + u_{xxx} = 0$ on [-π,π]"
   ]
  },
  {
   "cell_type": "code",
   "execution_count": 6,
   "id": "44ba0c85",
   "metadata": {},
   "outputs": [
    {
     "ename": "LoadError",
     "evalue": "UndefVarError: fft not defined",
     "output_type": "error",
     "traceback": [
      "UndefVarError: fft not defined",
      "",
      "Stacktrace:",
      " [1] top-level scope",
      "   @ In[6]:7",
      " [2] eval",
      "   @ ./boot.jl:368 [inlined]",
      " [3] include_string(mapexpr::typeof(REPL.softscope), mod::Module, code::String, filename::String)",
      "   @ Base ./loading.jl:1428"
     ]
    }
   ],
   "source": [
    "# Set up grid and two-soliton initial data:\n",
    "N = 256\n",
    "dt = 0.4 / N^2\n",
    "x = (2π / N) * (-N/2 : N/2-1)\n",
    "A,B = 25,16\n",
    "u = @. 3A^2 * sech(0.5 * (A * (x + 2)))^2 + 3B^2 * sech(0.5 * (B * (x + 1)))^2\n",
    "û = fft(u)\n",
    "k = [0:N/2-1; 0; -N/2+1:-1]\n",
    "ik3 = 1im * k .^ 3\n",
    "\n",
    "# Solve PDE and plot results:\n",
    "tmax = 0.006\n",
    "nsteps = round(Int, tmax / dt)\n",
    "dt = tmax / nsteps\n",
    "t = dt*(0:nsteps)\n",
    "U = zeros(N,nsteps+1)\n",
    "U[:,1] .= u\n",
    "for n = 1:nsteps\n",
    "    g = -0.5im * dt * k\n",
    "    E = exp.(dt * ik3 / 2)\n",
    "    E2 = E .^ 2\n",
    "    a = g .* fft(real(ifft(û)) .^ 2)\n",
    "    b = g .* fft(real(ifft(E .* (û + a / 2))) .^ 2)     # 4th-order\n",
    "    c = g .* fft(real(ifft(E .* û + b / 2)) .^ 2)     # Runge-Kutta\n",
    "    d = g .* fft(real(ifft(E2 .* û + E .* c)) .^ 2)\n",
    "    û = E2 .* û + (E2 .* a + 2 * E .* (b + c) + d) / 6\n",
    "    \n",
    "    U[:,n+1] = real(ifft(û))\n",
    "    \n",
    "end"
   ]
  },
  {
   "cell_type": "code",
   "execution_count": 7,
   "id": "f67d6f04",
   "metadata": {},
   "outputs": [
    {
     "ename": "LoadError",
     "evalue": "UndefVarError: Figure not defined",
     "output_type": "error",
     "traceback": [
      "UndefVarError: Figure not defined",
      "",
      "Stacktrace:",
      " [1] top-level scope",
      "   @ In[7]:1",
      " [2] eval",
      "   @ ./boot.jl:368 [inlined]",
      " [3] include_string(mapexpr::typeof(REPL.softscope), mod::Module, code::String, filename::String)",
      "   @ Base ./loading.jl:1428"
     ]
    }
   ],
   "source": [
    "fig = Figure()\n",
    "Axis3(fig[1, 1],\n",
    "    xticks = MultiplesTicks(5, π, \"π\"),\n",
    "    xlabel=\"x\", ylabel=\"t\", zlabel=\"u\", \n",
    "    azimuth=4.5, elevation=1.2,\n",
    ")\n",
    "gap = max(1,round(Int, 2e-4/(t[2]-t[1])) - 1)\n",
    "surface!(x, t, U)\n",
    "[ lines!(x, fill(t[j], length(x)), U[:, j].+.01, color=:ivory) for j in 1:gap:size(U,2) ]\n",
    "fig"
   ]
  },
  {
   "cell_type": "code",
   "execution_count": 8,
   "id": "3492b313",
   "metadata": {},
   "outputs": [
    {
     "ename": "LoadError",
     "evalue": "UndefVarError: Figure not defined",
     "output_type": "error",
     "traceback": [
      "UndefVarError: Figure not defined",
      "",
      "Stacktrace:",
      " [1] top-level scope",
      "   @ In[8]:1",
      " [2] eval",
      "   @ ./boot.jl:368 [inlined]",
      " [3] include_string(mapexpr::typeof(REPL.softscope), mod::Module, code::String, filename::String)",
      "   @ Base ./loading.jl:1428"
     ]
    }
   ],
   "source": [
    "fig = Figure(size=(480,320))\n",
    "index = Observable(1)\n",
    "ax = Axis(fig[1, 1],\n",
    "    xticks = MultiplesTicks(5, π, \"π\"),\n",
    "    xlabel=\"x\", ylabel=\"u\"\n",
    ")\n",
    "lines!(x, @lift(U[:,$index]))\n",
    "record(fig, \"_build/html/p27.mp4\", 1:4:size(U,2)) do i\n",
    "    index[] = i\n",
    "    ax.title = f\"t = {t[i]:.5f}\"\n",
    "end;"
   ]
  },
  {
   "cell_type": "markdown",
   "id": "1c4d0e99",
   "metadata": {},
   "source": [
    "<video autoplay controls><source src=\"p27.mp4\" type=\"video/mp4\"></video>"
   ]
  }
 ],
 "metadata": {
  "jupytext": {
   "cell_metadata_filter": "-all",
   "formats": "md:myst",
   "text_representation": {
    "extension": ".md",
    "format_name": "myst",
    "format_version": 0.13,
    "jupytext_version": "1.14.0"
   }
  },
  "kernelspec": {
   "display_name": "Julia 1.8.2",
   "language": "julia",
   "name": "julia-1.8"
  },
  "language_info": {
   "file_extension": ".jl",
   "mimetype": "application/julia",
   "name": "julia",
   "version": "1.8.2"
  },
  "source_map": [
   14,
   18,
   20,
   24,
   63,
   89,
   93,
   105,
   126,
   130,
   163,
   176,
   188
  ]
 },
 "nbformat": 4,
 "nbformat_minor": 5
}