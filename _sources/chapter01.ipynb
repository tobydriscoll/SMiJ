{
 "cells": [
  {
   "cell_type": "markdown",
   "id": "8c0a9f68",
   "metadata": {},
   "source": [
    "# Differentiation matrices\n",
    "\n",
    "## p1: convergence of fourth-order finite differences"
   ]
  },
  {
   "cell_type": "code",
   "execution_count": 1,
   "id": "e54eb377",
   "metadata": {},
   "outputs": [],
   "source": [
    "using LinearAlgebra, SparseArrays\n",
    "\n",
    "N = @. 2^(3:12)\n",
    "err = zeros(size(N))\n",
    "for (i,N) in enumerate(N)\n",
    "    h = 2π / N\n",
    "    x = @. -π + (1:N) * h\n",
    "    u = @. exp(sin(x)^2)\n",
    "    uʹ = @. 2 * sin(x) * cos(x) * u\n",
    "\n",
    "    # Construct sparse fourth-order differentiation matrix:\n",
    "    col1 = [ 0; -2/3h; 1/12h; zeros(N-5); -1/12h; 2/3h ]\n",
    "    D = sparse( [col1[mod(i-j,N) + 1] for i in 1:N, j in 1:N] )\n",
    "\n",
    "    # Plot max(abs(D*u-uʹ)):\n",
    "    err[i] = norm(D * u - uʹ, Inf)\n",
    "end"
   ]
  },
  {
   "cell_type": "code",
   "execution_count": 2,
   "id": "d3b739b2",
   "metadata": {},
   "outputs": [
    {
     "ename": "LoadError",
     "evalue": "ArgumentError: Package CairoMakie [13f3f980-e62b-5c42-98c6-ff1f3baf88f0] is required but does not seem to be installed:\n - Run `Pkg.instantiate()` to install all recorded dependencies.\n",
     "output_type": "error",
     "traceback": [
      "ArgumentError: Package CairoMakie [13f3f980-e62b-5c42-98c6-ff1f3baf88f0] is required but does not seem to be installed:\n - Run `Pkg.instantiate()` to install all recorded dependencies.\n",
      "",
      "Stacktrace:",
      " [1] _require(pkg::Base.PkgId)",
      "   @ Base ./loading.jl:1306",
      " [2] _require_prelocked(uuidkey::Base.PkgId)",
      "   @ Base ./loading.jl:1200",
      " [3] macro expansion",
      "   @ ./loading.jl:1180 [inlined]",
      " [4] macro expansion",
      "   @ ./lock.jl:223 [inlined]",
      " [5] require(into::Module, mod::Symbol)",
      "   @ Base ./loading.jl:1144",
      " [6] eval",
      "   @ ./boot.jl:368 [inlined]",
      " [7] include_string(mapexpr::typeof(REPL.softscope), mod::Module, code::String, filename::String)",
      "   @ Base ./loading.jl:1428"
     ]
    }
   ],
   "source": [
    "using CairoMakie\n",
    "\n",
    "fig = Figure()\n",
    "Axis(\n",
    "    fig[1, 1],\n",
    "    xscale=log10, yscale=log10,\n",
    "    xlabel=\"N\", ylabel=\"error\",\n",
    "    title=\"Convergence of fourth-order finite differences\",\n",
    ")\n",
    "\n",
    "scatter!(N, err)\n",
    "order4 = (N/N[1]) .^ (-4) * err[1] / 100\n",
    "lines!(N, order4, color=:black, linestyle=:dash)\n",
    "text!(105, 8e-8, text=L\"N^{-4}\")\n",
    "fig"
   ]
  },
  {
   "cell_type": "markdown",
   "id": "ccb2e314",
   "metadata": {},
   "source": [
    "## p2: convergence of periodic spectral method (compare p1)"
   ]
  },
  {
   "cell_type": "code",
   "execution_count": 3,
   "id": "337aeed1",
   "metadata": {},
   "outputs": [],
   "source": [
    "N = 2:2:100\n",
    "@assert(all(iseven.(N)),\"N must be even\")\n",
    "err = zeros(size(N))\n",
    "\n",
    "for (i,N) in enumerate(N)\n",
    "    h = 2π / N\n",
    "    x = [-π + i * h for i = 1:N]\n",
    "    u = @. exp(sin(x))\n",
    "    uʹ = @. cos(x) * u\n",
    "\n",
    "    # Construct spectral differentiation matrix:\n",
    "    entry(k) = k==0 ? 0.0 : (-1)^k * 0.5cot( k * h / 2 )\n",
    "    D = [ entry(mod(i-j,N)) for i in 1:N, j in 1:N ]\n",
    "\n",
    "    # Plot max(abs(D*u - uʹ)):\n",
    "    err[i] = norm(D*u - uʹ, Inf)\n",
    "end"
   ]
  },
  {
   "cell_type": "code",
   "execution_count": 4,
   "id": "e888abce",
   "metadata": {},
   "outputs": [
    {
     "ename": "LoadError",
     "evalue": "UndefVarError: scatter not defined",
     "output_type": "error",
     "traceback": [
      "UndefVarError: scatter not defined",
      "",
      "Stacktrace:",
      " [1] top-level scope",
      "   @ In[4]:1",
      " [2] eval",
      "   @ ./boot.jl:368 [inlined]",
      " [3] include_string(mapexpr::typeof(REPL.softscope), mod::Module, code::String, filename::String)",
      "   @ Base ./loading.jl:1428"
     ]
    }
   ],
   "source": [
    "scatter(N, err, axis = (\n",
    "    xlabel=\"N\", xscale=log10, \n",
    "    ylabel=\"error\", yscale=log10,\n",
    "    title=\"Convergence of spectral differentiation\"\n",
    "))"
   ]
  }
 ],
 "metadata": {
  "jupytext": {
   "cell_metadata_filter": "-all",
   "formats": "md:myst",
   "text_representation": {
    "extension": ".md",
    "format_name": "myst",
    "format_version": 0.13,
    "jupytext_version": "1.14.1"
   }
  },
  "kernelspec": {
   "display_name": "Julia 1.8.0",
   "language": "julia",
   "name": "julia-1.8"
  },
  "language_info": {
   "file_extension": ".jl",
   "mimetype": "application/julia",
   "name": "julia",
   "version": "1.8.2"
  },
  "source_map": [
   14,
   20,
   40,
   56,
   60,
   80
  ]
 },
 "nbformat": 4,
 "nbformat_minor": 5
}