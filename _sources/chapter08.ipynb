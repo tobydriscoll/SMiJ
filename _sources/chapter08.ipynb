{
 "cells": [
  {
   "cell_type": "markdown",
   "id": "222db645",
   "metadata": {},
   "source": [
    "# Chebyshev FFT"
   ]
  },
  {
   "cell_type": "code",
   "execution_count": 1,
   "id": "0a5dee0d",
   "metadata": {},
   "outputs": [
    {
     "ename": "LoadError",
     "evalue": "LoadError: ArgumentError: Package FFTW [7a1cc6ca-52ef-59f5-83cd-3a7055c09341] is required but does not seem to be installed:\n - Run `Pkg.instantiate()` to install all recorded dependencies.\n\nin expression starting at /Users/driscoll/repos/SMiJ/pages/smij-functions.jl:1",
     "output_type": "error",
     "traceback": [
      "LoadError: ArgumentError: Package FFTW [7a1cc6ca-52ef-59f5-83cd-3a7055c09341] is required but does not seem to be installed:\n - Run `Pkg.instantiate()` to install all recorded dependencies.\n\nin expression starting at /Users/driscoll/repos/SMiJ/pages/smij-functions.jl:1",
      "",
      "Stacktrace:",
      " [1] _require(pkg::Base.PkgId)",
      "   @ Base ./loading.jl:1306",
      " [2] _require_prelocked(uuidkey::Base.PkgId)",
      "   @ Base ./loading.jl:1200",
      " [3] macro expansion",
      "   @ ./loading.jl:1180 [inlined]",
      " [4] macro expansion",
      "   @ ./lock.jl:223 [inlined]",
      " [5] require(into::Module, mod::Symbol)",
      "   @ Base ./loading.jl:1144",
      " [6] include(fname::String)",
      "   @ Base.MainInclude ./client.jl:476",
      " [7] top-level scope",
      "   @ In[1]:1",
      " [8] eval",
      "   @ ./boot.jl:368 [inlined]",
      " [9] include_string(mapexpr::typeof(REPL.softscope), mod::Module, code::String, filename::String)",
      "   @ Base ./loading.jl:1428"
     ]
    }
   ],
   "source": [
    "include(\"smij-functions.jl\");"
   ]
  },
  {
   "cell_type": "markdown",
   "id": "7d60fa21",
   "metadata": {},
   "source": [
    "## p18: Chebyshev differentiation via FFT (compare p11)"
   ]
  },
  {
   "cell_type": "code",
   "execution_count": 2,
   "id": "eaa2440a",
   "metadata": {},
   "outputs": [
    {
     "ename": "LoadError",
     "evalue": "UndefVarError: cheb not defined",
     "output_type": "error",
     "traceback": [
      "UndefVarError: cheb not defined",
      "",
      "Stacktrace:",
      " [1] top-level scope",
      "   @ ./In[2]:7",
      " [2] eval",
      "   @ ./boot.jl:368 [inlined]",
      " [3] include_string(mapexpr::typeof(REPL.softscope), mod::Module, code::String, filename::String)",
      "   @ Base ./loading.jl:1428"
     ]
    }
   ],
   "source": [
    "u = x -> exp(x) * sin(5x) \n",
    "uʹ = x -> exp(x) * (sin(5x) + 5 * cos(5x))\n",
    "xx = (-200:200) / 200\n",
    "vv = @. u.(xx)\n",
    "results = []\n",
    "for (i,N) in enumerate([10, 20])\n",
    "    _, x = cheb(N)\n",
    "    v = u.(x)\n",
    "    error = chebfft(v) - uʹ.(x)\n",
    "    ee = polyinterp(x, error).(xx)\n",
    "    push!(results, (;x,v,error,ee))\n",
    "end"
   ]
  },
  {
   "cell_type": "code",
   "execution_count": 3,
   "id": "cc2bbb3f",
   "metadata": {},
   "outputs": [
    {
     "ename": "LoadError",
     "evalue": "ArgumentError: Package CairoMakie [13f3f980-e62b-5c42-98c6-ff1f3baf88f0] is required but does not seem to be installed:\n - Run `Pkg.instantiate()` to install all recorded dependencies.\n",
     "output_type": "error",
     "traceback": [
      "ArgumentError: Package CairoMakie [13f3f980-e62b-5c42-98c6-ff1f3baf88f0] is required but does not seem to be installed:\n - Run `Pkg.instantiate()` to install all recorded dependencies.\n",
      "",
      "Stacktrace:",
      " [1] _require(pkg::Base.PkgId)",
      "   @ Base ./loading.jl:1306",
      " [2] _require_prelocked(uuidkey::Base.PkgId)",
      "   @ Base ./loading.jl:1200",
      " [3] macro expansion",
      "   @ ./loading.jl:1180 [inlined]",
      " [4] macro expansion",
      "   @ ./lock.jl:223 [inlined]",
      " [5] require(into::Module, mod::Symbol)",
      "   @ Base ./loading.jl:1144",
      " [6] eval",
      "   @ ./boot.jl:368 [inlined]",
      " [7] include_string(mapexpr::typeof(REPL.softscope), mod::Module, code::String, filename::String)",
      "   @ Base ./loading.jl:1428"
     ]
    }
   ],
   "source": [
    "using CairoMakie\n",
    "fig = Figure()\n",
    "for (i,r) in enumerate(results)\n",
    "    N = length(r.x)\n",
    "    Axis(fig[i, 1], title=\"u(x),  N=$N\")\n",
    "    scatter!(r.x, r.v)\n",
    "    lines!(xx, vv)\n",
    "    Axis(fig[i, 2], title=\"error in uʹ(x),  N=$N\")\n",
    "    scatter!(r.x, r.error)\n",
    "    lines!(xx, r.ee)\n",
    "end\n",
    "fig"
   ]
  },
  {
   "cell_type": "markdown",
   "id": "38fe0b8b",
   "metadata": {},
   "source": [
    "## p19: 2nd-order wave eq. on Chebyshev grid (compare p6)"
   ]
  },
  {
   "cell_type": "code",
   "execution_count": 4,
   "id": "b2e69ab7",
   "metadata": {},
   "outputs": [
    {
     "ename": "LoadError",
     "evalue": "UndefVarError: cheb not defined",
     "output_type": "error",
     "traceback": [
      "UndefVarError: cheb not defined",
      "",
      "Stacktrace:",
      " [1] top-level scope",
      "   @ In[4]:3",
      " [2] eval",
      "   @ ./boot.jl:368 [inlined]",
      " [3] include_string(mapexpr::typeof(REPL.softscope), mod::Module, code::String, filename::String)",
      "   @ Base ./loading.jl:1428"
     ]
    }
   ],
   "source": [
    "# Time-stepping by leap frog formula:\n",
    "N = 80\n",
    "_, x = cheb(N)\n",
    "Δt = 8 / N^2\n",
    "v = @. exp(-200 * x^2)\n",
    "vold = @. exp(-200 * (x - Δt)^2)\n",
    "\n",
    "tmax = 4\n",
    "nsteps = ceil(Int, tmax / Δt)\n",
    "Δt = tmax / nsteps\n",
    "V = [v fill(NaN, N+1, nsteps)]\n",
    "t = Δt*(0:nsteps)\n",
    "for i in 1:nsteps\n",
    "    w = chebfft(chebfft(V[:,i]))\n",
    "    w[1] = w[N+1] = 0\n",
    "    V[:,i+1] = 2V[:,i] - vold + Δt^2 * w\n",
    "    vold = V[:,i]\n",
    "    if norm(V[:,i+1], Inf) > 2.5\n",
    "        nsteps = i\n",
    "        break \n",
    "    end\n",
    "end"
   ]
  },
  {
   "cell_type": "code",
   "execution_count": 5,
   "id": "dce7df6a",
   "metadata": {},
   "outputs": [
    {
     "ename": "LoadError",
     "evalue": "ArgumentError: Package PyFormattedStrings [5f89f4a4-a228-4886-b223-c468a82ed5b9] is required but does not seem to be installed:\n - Run `Pkg.instantiate()` to install all recorded dependencies.\n",
     "output_type": "error",
     "traceback": [
      "ArgumentError: Package PyFormattedStrings [5f89f4a4-a228-4886-b223-c468a82ed5b9] is required but does not seem to be installed:\n - Run `Pkg.instantiate()` to install all recorded dependencies.\n",
      "",
      "Stacktrace:",
      " [1] _require(pkg::Base.PkgId)",
      "   @ Base ./loading.jl:1306",
      " [2] _require_prelocked(uuidkey::Base.PkgId)",
      "   @ Base ./loading.jl:1200",
      " [3] macro expansion",
      "   @ ./loading.jl:1180 [inlined]",
      " [4] macro expansion",
      "   @ ./lock.jl:223 [inlined]",
      " [5] require(into::Module, mod::Symbol)",
      "   @ Base ./loading.jl:1144",
      " [6] eval",
      "   @ ./boot.jl:368 [inlined]",
      " [7] include_string(mapexpr::typeof(REPL.softscope), mod::Module, code::String, filename::String)",
      "   @ Base ./loading.jl:1428"
     ]
    }
   ],
   "source": [
    "using PyFormattedStrings\n",
    "# Plot results:\n",
    "fig = Figure()\n",
    "Axis3(fig[1, 1],\n",
    "    xticks = MultiplesTicks(5, π, \"π\"),\n",
    "    xlabel=\"x\", ylabel=\"t\", zlabel=\"u\", \n",
    "    azimuth=4.5, elevation=1.44,\n",
    ")\n",
    "gap = max(1,round(Int, 0.075/(t[2]-t[1])) - 1)\n",
    "surface!(x, t, V, colorrange=(0,1))\n",
    "[ lines!(x, fill(t[j], length(x)), V[:, j].+.01, color=:ivory) for j in 1:gap:size(V,2) ]\n",
    "fig"
   ]
  },
  {
   "cell_type": "code",
   "execution_count": 6,
   "id": "9767b6db",
   "metadata": {},
   "outputs": [
    {
     "ename": "LoadError",
     "evalue": "UndefVarError: Figure not defined",
     "output_type": "error",
     "traceback": [
      "UndefVarError: Figure not defined",
      "",
      "Stacktrace:",
      " [1] top-level scope",
      "   @ In[6]:1",
      " [2] eval",
      "   @ ./boot.jl:368 [inlined]",
      " [3] include_string(mapexpr::typeof(REPL.softscope), mod::Module, code::String, filename::String)",
      "   @ Base ./loading.jl:1428"
     ]
    }
   ],
   "source": [
    "fig = Figure(size=(480,360))\n",
    "index = Observable(1)\n",
    "ax = Axis(fig[1, 1],xlabel=\"x\", ylabel=\"u\" )\n",
    "lines!(x, @lift(V[:,$index]))\n",
    "record(fig, \"_build/html/p19wave.mp4\", 1:6:size(V,2)+1) do i\n",
    "    index[] = i\n",
    "    ax.title = f\"t = {t[i]:.2f}\"\n",
    "    limits!(-1,1,-1,1)\n",
    "end;"
   ]
  },
  {
   "cell_type": "markdown",
   "id": "1ef314c4",
   "metadata": {},
   "source": [
    "<video autoplay controls><source src=\"p19wave.mp4\" type=\"video/mp4\"></video>\n",
    "\n",
    "\n",
    "## p20: 2nd-order wave eq. in 2D via FFT (compare p19)"
   ]
  },
  {
   "cell_type": "code",
   "execution_count": 7,
   "id": "b85185d4",
   "metadata": {},
   "outputs": [
    {
     "ename": "LoadError",
     "evalue": "UndefVarError: cheb not defined",
     "output_type": "error",
     "traceback": [
      "UndefVarError: cheb not defined",
      "",
      "Stacktrace:",
      " [1] top-level scope",
      "   @ In[7]:3",
      " [2] eval",
      "   @ ./boot.jl:368 [inlined]",
      " [3] include_string(mapexpr::typeof(REPL.softscope), mod::Module, code::String, filename::String)",
      "   @ Base ./loading.jl:1428"
     ]
    }
   ],
   "source": [
    "# Grid and initial data:\n",
    "N = 32\n",
    "x = y = cheb(N)[2]\n",
    "Δt = 6 / N^2\n",
    "xx = yy = range(-1,1,81)\n",
    "nsteps = ceil(Int, 1 / Δt)\n",
    "Δt = 1 / nsteps\n",
    "\n",
    "vv = [exp(-40 * ((x - 0.4)^2 + y^2)) for x in x, y in y]\n",
    "vvold = vv\n",
    "\n",
    "t = Δt*(0:nsteps)\n",
    "V = zeros(length(xx),length(yy),nsteps+1)\n",
    "V[:,:,1] = gridinterp(vv,xx,yy)\n",
    "\n",
    "# Time-stepping by leap frog formula:\n",
    "uxx = zeros(N+1, N+1)\n",
    "uyy = zeros(N+1, N+1)\n",
    "for n in 1:nsteps\n",
    "    ii = 2:N\n",
    "    for i in 2:N\n",
    "        uxx[i,:] .= chebfft(chebfft(vv[i,:]))\n",
    "        uyy[:,i] .= chebfft(chebfft(vv[:,i]))\n",
    "    end\n",
    "    uxx[[1,N+1],:] .= uyy[[1,N+1],:] .= 0\n",
    "    uxx[:,[1,N+1]] .= uyy[:,[1,N+1]] .= 0\n",
    "    vvnew = 2vv - vvold + Δt^2 * (uxx + uyy)\n",
    "    vvold,vv = vv,vvnew\n",
    "    V[:,:,n+1] = gridinterp(vv,xx,yy)\n",
    "end"
   ]
  },
  {
   "cell_type": "code",
   "execution_count": 8,
   "id": "50c8572d",
   "metadata": {},
   "outputs": [
    {
     "ename": "LoadError",
     "evalue": "UndefVarError: nsteps not defined",
     "output_type": "error",
     "traceback": [
      "UndefVarError: nsteps not defined",
      "",
      "Stacktrace:",
      " [1] top-level scope",
      "   @ In[8]:1",
      " [2] eval",
      "   @ ./boot.jl:368 [inlined]",
      " [3] include_string(mapexpr::typeof(REPL.softscope), mod::Module, code::String, filename::String)",
      "   @ Base ./loading.jl:1428"
     ]
    }
   ],
   "source": [
    "inc = div(nsteps,3)\n",
    "fig = Figure()\n",
    "ax = [ Axis3(fig[j,i], zticks=[0,0.5,1]) for i in 1:2, j in 1:2 ]\n",
    "for (i,n) in enumerate(1:inc:nsteps+1) \n",
    "    surface!(ax[i],xx,yy,V[:,:,n])\n",
    "    ax[i].title = f\"t = {t[n]:.3f}\"\n",
    "    limits!(ax[i],-1,1,-1,1,-0.3,1)\n",
    "    ax[i].elevation = π/5\n",
    "end\n",
    "fig"
   ]
  },
  {
   "cell_type": "code",
   "execution_count": 9,
   "id": "72504779",
   "metadata": {},
   "outputs": [
    {
     "ename": "LoadError",
     "evalue": "UndefVarError: Figure not defined",
     "output_type": "error",
     "traceback": [
      "UndefVarError: Figure not defined",
      "",
      "Stacktrace:",
      " [1] top-level scope",
      "   @ In[9]:1",
      " [2] eval",
      "   @ ./boot.jl:368 [inlined]",
      " [3] include_string(mapexpr::typeof(REPL.softscope), mod::Module, code::String, filename::String)",
      "   @ Base ./loading.jl:1428"
     ]
    }
   ],
   "source": [
    "fig = Figure(size=(480,320))\n",
    "index = Observable(1)\n",
    "# ax = Axis(fig[1, 1], xlabel=\"x\", ylabel=\"y\", aspect=DataAspect())\n",
    "ax = Axis3(fig[1, 1], xlabel=\"x\", ylabel=\"y\", azimuth=-π/2, elevation=π/2)\n",
    "# co = contourf!(ax,xx, yy, @lift(V[:,:,$index]), \n",
    "#     levels=range(-0.3,1,24),\n",
    "#     colormap=:bluesreds )\n",
    "co = surface!(xx, yy, @lift(V[:,:,$index]), \n",
    "        colormap=:bluesreds, colorrange=[-0.8,0.8] )\n",
    "record(fig, \"_build/html/p20wave.mp4\", 1:size(V,3)) do i\n",
    "    index[] = i\n",
    "    ax.title = f\"t = {t[i]:.2f}\"\n",
    "end;"
   ]
  },
  {
   "cell_type": "markdown",
   "id": "6e022f43",
   "metadata": {},
   "source": [
    "<video autoplay controls><source src=\"p20wave.mp4\" type=\"video/mp4\"></video>"
   ]
  }
 ],
 "metadata": {
  "jupytext": {
   "cell_metadata_filter": "-all",
   "formats": "md:myst",
   "text_representation": {
    "extension": ".md",
    "format_name": "myst",
    "format_version": 0.13,
    "jupytext_version": "1.14.0"
   }
  },
  "kernelspec": {
   "display_name": "Julia 1.8.2",
   "language": "julia",
   "name": "julia-1.8"
  },
  "language_info": {
   "file_extension": ".jl",
   "mimetype": "application/julia",
   "name": "julia",
   "version": "1.8.2"
  },
  "source_map": [
   14,
   18,
   20,
   24,
   39,
   52,
   56,
   81,
   96,
   106,
   113,
   146,
   159,
   173
  ]
 },
 "nbformat": 4,
 "nbformat_minor": 5
}