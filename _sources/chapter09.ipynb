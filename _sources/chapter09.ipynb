{
 "cells": [
  {
   "cell_type": "markdown",
   "id": "13600dad",
   "metadata": {},
   "source": [
    "# Eigenvalues and pseudospectra\n",
    "\n",
    "Not yet done."
   ]
  },
  {
   "cell_type": "code",
   "execution_count": 1,
   "id": "35b4a625",
   "metadata": {},
   "outputs": [
    {
     "ename": "LoadError",
     "evalue": "LoadError: ArgumentError: Package FFTW [7a1cc6ca-52ef-59f5-83cd-3a7055c09341] is required but does not seem to be installed:\n - Run `Pkg.instantiate()` to install all recorded dependencies.\n\nin expression starting at /Users/driscoll/repos/SMiJ/pages/smij-functions.jl:1",
     "output_type": "error",
     "traceback": [
      "LoadError: ArgumentError: Package FFTW [7a1cc6ca-52ef-59f5-83cd-3a7055c09341] is required but does not seem to be installed:\n - Run `Pkg.instantiate()` to install all recorded dependencies.\n\nin expression starting at /Users/driscoll/repos/SMiJ/pages/smij-functions.jl:1",
      "",
      "Stacktrace:",
      " [1] _require(pkg::Base.PkgId)",
      "   @ Base ./loading.jl:1306",
      " [2] _require_prelocked(uuidkey::Base.PkgId)",
      "   @ Base ./loading.jl:1200",
      " [3] macro expansion",
      "   @ ./loading.jl:1180 [inlined]",
      " [4] macro expansion",
      "   @ ./lock.jl:223 [inlined]",
      " [5] require(into::Module, mod::Symbol)",
      "   @ Base ./loading.jl:1144",
      " [6] include(fname::String)",
      "   @ Base.MainInclude ./client.jl:476",
      " [7] top-level scope",
      "   @ In[1]:1",
      " [8] eval",
      "   @ ./boot.jl:368 [inlined]",
      " [9] include_string(mapexpr::typeof(REPL.softscope), mod::Module, code::String, filename::String)",
      "   @ Base ./loading.jl:1428"
     ]
    }
   ],
   "source": [
    "include(\"smij-functions.jl\");"
   ]
  }
 ],
 "metadata": {
  "jupytext": {
   "cell_metadata_filter": "-all",
   "formats": "md:myst",
   "text_representation": {
    "extension": ".md",
    "format_name": "myst",
    "format_version": 0.13,
    "jupytext_version": "1.14.0"
   }
  },
  "kernelspec": {
   "display_name": "Julia 1.8.2",
   "language": "julia",
   "name": "julia-1.8"
  },
  "language_info": {
   "file_extension": ".jl",
   "mimetype": "application/julia",
   "name": "julia",
   "version": "1.8.2"
  },
  "source_map": [
   14,
   20
  ]
 },
 "nbformat": 4,
 "nbformat_minor": 5
}