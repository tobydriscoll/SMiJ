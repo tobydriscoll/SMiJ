{
 "cells": [
  {
   "cell_type": "markdown",
   "id": "f328213c",
   "metadata": {},
   "source": [
    "# Eigenvalues and pseudospectra\n",
    "\n",
    "Not yet done."
   ]
  },
  {
   "cell_type": "code",
   "execution_count": 1,
   "id": "d356c1d0",
   "metadata": {},
   "outputs": [],
   "source": [
    "include(\"smij-functions.jl\");"
   ]
  }
 ],
 "metadata": {
  "jupytext": {
   "cell_metadata_filter": "-all",
   "formats": "md:myst",
   "text_representation": {
    "extension": ".md",
    "format_name": "myst",
    "format_version": 0.13,
    "jupytext_version": "1.14.0"
   }
  },
  "kernelspec": {
   "display_name": "Julia 1.8.2",
   "language": "julia",
   "name": "julia-1.8"
  },
  "language_info": {
   "file_extension": ".jl",
   "mimetype": "application/julia",
   "name": "julia",
   "version": "1.8.2"
  },
  "source_map": [
   14,
   20
  ]
 },
 "nbformat": 4,
 "nbformat_minor": 5
}