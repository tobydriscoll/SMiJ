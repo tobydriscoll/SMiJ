{
 "cells": [
  {
   "cell_type": "markdown",
   "id": "4c6f2619",
   "metadata": {},
   "source": [
    "# Periodic grids\n",
    "\n",
    "## p4: periodic spectral differentiation"
   ]
  },
  {
   "cell_type": "code",
   "execution_count": 1,
   "id": "2708cd33",
   "metadata": {},
   "outputs": [],
   "source": [
    "using LinearAlgebra\n",
    "N = 24\n",
    "\n",
    "# Set up grid and differentiation matrix:\n",
    "h = 2π / N\n",
    "x = h * (1:N)\n",
    "entry(k) = k==0 ? 0.0 : 0.5 * (-1)^k * cot(k * h / 2)\n",
    "D = [ entry(mod(i-j,N)) for i in 1:N, j in 1:N ]\n",
    "\n",
    "# Differentiation of a hat function:\n",
    "v = @. max(0, 1 - abs(x - π) / 2)\n",
    "w = D*v\n",
    "hat = (;v, w)\n",
    "\n",
    "# Differentiation of exp(sin(x)):\n",
    "v = @. exp(sin(x))\n",
    "vʹ = @. cos(x) * v\n",
    "w = D*v\n",
    "error = norm(w - vʹ, Inf)\n",
    "smooth = (;v, w, error);"
   ]
  },
  {
   "cell_type": "code",
   "execution_count": 2,
   "id": "f03d5356",
   "metadata": {},
   "outputs": [
    {
     "ename": "LoadError",
     "evalue": "ArgumentError: Package CairoMakie [13f3f980-e62b-5c42-98c6-ff1f3baf88f0] is required but does not seem to be installed:\n - Run `Pkg.instantiate()` to install all recorded dependencies.\n",
     "output_type": "error",
     "traceback": [
      "ArgumentError: Package CairoMakie [13f3f980-e62b-5c42-98c6-ff1f3baf88f0] is required but does not seem to be installed:\n - Run `Pkg.instantiate()` to install all recorded dependencies.\n",
      "",
      "Stacktrace:",
      " [1] _require(pkg::Base.PkgId)",
      "   @ Base ./loading.jl:1306",
      " [2] _require_prelocked(uuidkey::Base.PkgId)",
      "   @ Base ./loading.jl:1200",
      " [3] macro expansion",
      "   @ ./loading.jl:1180 [inlined]",
      " [4] macro expansion",
      "   @ ./lock.jl:223 [inlined]",
      " [5] require(into::Module, mod::Symbol)",
      "   @ Base ./loading.jl:1144",
      " [6] eval",
      "   @ ./boot.jl:368 [inlined]",
      " [7] include_string(mapexpr::typeof(REPL.softscope), mod::Module, code::String, filename::String)",
      "   @ Base ./loading.jl:1428"
     ]
    }
   ],
   "source": [
    "using CairoMakie, PyFormattedStrings\n",
    "\n",
    "fig = Figure()\n",
    "ax = Axis(fig[1, 1], title=\"function\")\n",
    "scatterlines!(x, hat.v)\n",
    "limits!(ax, 0, 2π, -0.5, 1.5)\n",
    "ax = Axis(fig[1, 2], title=\"spectral derivative\")\n",
    "scatterlines!(x, hat.w)\n",
    "limits!(ax, 0, 2π, -1, 1)\n",
    "\n",
    "ax = Axis(fig[2, 1])\n",
    "scatterlines!(x, smooth.v)\n",
    "limits!(ax, 0, 2π, 0, 3)\n",
    "ax = Axis(fig[2, 2])\n",
    "scatterlines!(x, smooth.w)\n",
    "limits!(ax, 0, 2π, -2, 2)\n",
    "text!(2.2, 1.4, text=f\"max error = {smooth.error:.5g}\", textsize=20)\n",
    "fig"
   ]
  },
  {
   "cell_type": "markdown",
   "id": "30c707ea",
   "metadata": {},
   "source": [
    "## p5: repetition of p4 via FFT"
   ]
  },
  {
   "cell_type": "code",
   "execution_count": 3,
   "id": "fec4b73f",
   "metadata": {},
   "outputs": [
    {
     "ename": "LoadError",
     "evalue": "ArgumentError: Package FFTW [7a1cc6ca-52ef-59f5-83cd-3a7055c09341] is required but does not seem to be installed:\n - Run `Pkg.instantiate()` to install all recorded dependencies.\n",
     "output_type": "error",
     "traceback": [
      "ArgumentError: Package FFTW [7a1cc6ca-52ef-59f5-83cd-3a7055c09341] is required but does not seem to be installed:\n - Run `Pkg.instantiate()` to install all recorded dependencies.\n",
      "",
      "Stacktrace:",
      " [1] _require(pkg::Base.PkgId)",
      "   @ Base ./loading.jl:1306",
      " [2] _require_prelocked(uuidkey::Base.PkgId)",
      "   @ Base ./loading.jl:1200",
      " [3] macro expansion",
      "   @ ./loading.jl:1180 [inlined]",
      " [4] macro expansion",
      "   @ ./lock.jl:223 [inlined]",
      " [5] require(into::Module, mod::Symbol)",
      "   @ Base ./loading.jl:1144",
      " [6] eval",
      "   @ ./boot.jl:368 [inlined]",
      " [7] include_string(mapexpr::typeof(REPL.softscope), mod::Module, code::String, filename::String)",
      "   @ Base ./loading.jl:1428"
     ]
    }
   ],
   "source": [
    "using FFTW \n",
    "\n",
    "# real case\n",
    "function fderiv(v::Vector{T}) where T <: Real\n",
    "    N = length(v)\n",
    "    v̂ = rfft(v)\n",
    "    ŵ = 1im * [0:N/2-1; 0] .* v̂\n",
    "    return irfft(ŵ, N) \n",
    "end\n",
    "\n",
    "# general case (2x slower)\n",
    "function fderiv(v)\n",
    "    N = length(v)\n",
    "    v̂ = fft(v)\n",
    "    ŵ = 1im * [0:N/2-1; 0; -N/2+1:-1] .* v̂\n",
    "    return ifft(ŵ)\n",
    "end\n",
    "\n",
    "N = 24\n",
    "\n",
    "# Set up grid and differentiation matrix:\n",
    "h = 2π / N\n",
    "x = h * (1:N)\n",
    "\n",
    "# Differentiation of a hat function:\n",
    "v = @. max(0, 1 - abs(x - π) / 2)\n",
    "w = fderiv(v)\n",
    "hat = (;v, w)\n",
    "\n",
    "# Differentiation of exp(sin(x)):\n",
    "v = @. exp(sin(x))\n",
    "vʹ = @. cos(x) * v\n",
    "w = fderiv(v)\n",
    "error = norm(w - vʹ, Inf)\n",
    "smooth = (;v, w, error);"
   ]
  },
  {
   "cell_type": "code",
   "execution_count": 4,
   "id": "c3cf460a",
   "metadata": {},
   "outputs": [
    {
     "ename": "LoadError",
     "evalue": "ArgumentError: Package CairoMakie [13f3f980-e62b-5c42-98c6-ff1f3baf88f0] is required but does not seem to be installed:\n - Run `Pkg.instantiate()` to install all recorded dependencies.\n",
     "output_type": "error",
     "traceback": [
      "ArgumentError: Package CairoMakie [13f3f980-e62b-5c42-98c6-ff1f3baf88f0] is required but does not seem to be installed:\n - Run `Pkg.instantiate()` to install all recorded dependencies.\n",
      "",
      "Stacktrace:",
      " [1] _require(pkg::Base.PkgId)",
      "   @ Base ./loading.jl:1306",
      " [2] _require_prelocked(uuidkey::Base.PkgId)",
      "   @ Base ./loading.jl:1200",
      " [3] macro expansion",
      "   @ ./loading.jl:1180 [inlined]",
      " [4] macro expansion",
      "   @ ./lock.jl:223 [inlined]",
      " [5] require(into::Module, mod::Symbol)",
      "   @ Base ./loading.jl:1144",
      " [6] eval",
      "   @ ./boot.jl:368 [inlined]",
      " [7] include_string(mapexpr::typeof(REPL.softscope), mod::Module, code::String, filename::String)",
      "   @ Base ./loading.jl:1428"
     ]
    }
   ],
   "source": [
    "using CairoMakie, PyFormattedStrings\n",
    "\n",
    "fig = Figure()\n",
    "ax = Axis(fig[1, 1], title=\"function\")\n",
    "scatterlines!(x, hat.v)\n",
    "limits!(ax, 0, 2π, -0.5, 1.5)\n",
    "ax = Axis(fig[1, 2], title=\"spectral derivative\")\n",
    "scatterlines!(x, hat.w)\n",
    "limits!(ax, 0, 2π, -1, 1)\n",
    "\n",
    "ax = Axis(fig[2, 1])\n",
    "scatterlines!(x, smooth.v)\n",
    "limits!(ax, 0, 2π, 0, 3)\n",
    "ax = Axis(fig[2, 2])\n",
    "scatterlines!(x, smooth.w)\n",
    "limits!(ax, 0, 2π, -2, 2)\n",
    "text!(2.2, 1.4, text=f\"max error = {smooth.error:.5g}\", textsize=20)\n",
    "fig"
   ]
  },
  {
   "cell_type": "markdown",
   "id": "577e9005",
   "metadata": {},
   "source": [
    "## p6: variable coefficient wave equation"
   ]
  },
  {
   "cell_type": "code",
   "execution_count": 5,
   "id": "4279a0f9",
   "metadata": {},
   "outputs": [
    {
     "ename": "LoadError",
     "evalue": "ArgumentError: Package FFTW [7a1cc6ca-52ef-59f5-83cd-3a7055c09341] is required but does not seem to be installed:\n - Run `Pkg.instantiate()` to install all recorded dependencies.\n",
     "output_type": "error",
     "traceback": [
      "ArgumentError: Package FFTW [7a1cc6ca-52ef-59f5-83cd-3a7055c09341] is required but does not seem to be installed:\n - Run `Pkg.instantiate()` to install all recorded dependencies.\n",
      "",
      "Stacktrace:",
      " [1] _require(pkg::Base.PkgId)",
      "   @ Base ./loading.jl:1306",
      " [2] _require_prelocked(uuidkey::Base.PkgId)",
      "   @ Base ./loading.jl:1200",
      " [3] macro expansion",
      "   @ ./loading.jl:1180 [inlined]",
      " [4] macro expansion",
      "   @ ./lock.jl:223 [inlined]",
      " [5] require(into::Module, mod::Symbol)",
      "   @ Base ./loading.jl:1144",
      " [6] eval",
      "   @ ./boot.jl:368 [inlined]",
      " [7] include_string(mapexpr::typeof(REPL.softscope), mod::Module, code::String, filename::String)",
      "   @ Base ./loading.jl:1428"
     ]
    }
   ],
   "source": [
    "using FFTW\n",
    "\n",
    "function p6wave(⍺ = 1.57)\n",
    "    # Grid, variable coefficient, and initial data:\n",
    "    N = 128;  h = 2π / N\n",
    "    x = h * (1:N)\n",
    "    t = 0;  Δt = ⍺ / N\n",
    "    c = @. 0.2 + sin(x - 1)^2\n",
    "    v = @. exp(-100 * (x - 1) .^ 2)\n",
    "    vold = @. exp(-100 * (x - 0.2Δt - 1) .^ 2)\n",
    "\n",
    "    # Time-stepping by leap frog formula:\n",
    "    tmax = 8\n",
    "    nsteps = ceil(Int, tmax / Δt)\n",
    "    Δt = tmax / nsteps\n",
    "    V = [v fill(NaN, N, nsteps)]\n",
    "    t = Δt*(0:nsteps)\n",
    "    for i in 1:nsteps\n",
    "        w = fderiv(V[:,i])\n",
    "        V[:,i+1] = vold - 2Δt * c .* w\n",
    "        vold = V[:,i]\n",
    "        if norm(V[:,i+1], Inf) > 2.5\n",
    "            nsteps = i\n",
    "            break \n",
    "        end\n",
    "    end\n",
    "    return x,t[1:nsteps+1],V[:,1:nsteps+1]\n",
    "end\n",
    "\n",
    "x,t,V = p6wave(1.57);"
   ]
  },
  {
   "cell_type": "code",
   "execution_count": 6,
   "id": "4dff9b21",
   "metadata": {},
   "outputs": [
    {
     "ename": "LoadError",
     "evalue": "ArgumentError: Package CairoMakie [13f3f980-e62b-5c42-98c6-ff1f3baf88f0] is required but does not seem to be installed:\n - Run `Pkg.instantiate()` to install all recorded dependencies.\n",
     "output_type": "error",
     "traceback": [
      "ArgumentError: Package CairoMakie [13f3f980-e62b-5c42-98c6-ff1f3baf88f0] is required but does not seem to be installed:\n - Run `Pkg.instantiate()` to install all recorded dependencies.\n",
      "",
      "Stacktrace:",
      " [1] _require(pkg::Base.PkgId)",
      "   @ Base ./loading.jl:1306",
      " [2] _require_prelocked(uuidkey::Base.PkgId)",
      "   @ Base ./loading.jl:1200",
      " [3] macro expansion",
      "   @ ./loading.jl:1180 [inlined]",
      " [4] macro expansion",
      "   @ ./lock.jl:223 [inlined]",
      " [5] require(into::Module, mod::Symbol)",
      "   @ Base ./loading.jl:1144",
      " [6] eval",
      "   @ ./boot.jl:368 [inlined]",
      " [7] include_string(mapexpr::typeof(REPL.softscope), mod::Module, code::String, filename::String)",
      "   @ Base ./loading.jl:1428"
     ]
    }
   ],
   "source": [
    "using CairoMakie, PyFormattedStrings\n",
    "\n",
    "fig = Figure()\n",
    "Axis3(fig[1, 1],\n",
    "    xticks = MultiplesTicks(5, π, \"π\"),\n",
    "    xlabel=\"x\", ylabel=\"t\", zlabel=\"u\", \n",
    "    azimuth=4.5, elevation=1.44,\n",
    ")\n",
    "gap = max(1,round(Int, 0.15/(t[2]-t[1])) - 1)\n",
    "surface!(x, t, V, colorrange=(0,1))\n",
    "[ lines!(x, fill(t[j], length(x)), V[:, j].+.01, color=:ivory) for j in 1:gap:size(V,2) ]\n",
    "fig"
   ]
  },
  {
   "cell_type": "code",
   "execution_count": 7,
   "id": "ff3bf234",
   "metadata": {},
   "outputs": [
    {
     "ename": "LoadError",
     "evalue": "UndefVarError: Figure not defined",
     "output_type": "error",
     "traceback": [
      "UndefVarError: Figure not defined",
      "",
      "Stacktrace:",
      " [1] top-level scope",
      "   @ In[7]:1",
      " [2] eval",
      "   @ ./boot.jl:368 [inlined]",
      " [3] include_string(mapexpr::typeof(REPL.softscope), mod::Module, code::String, filename::String)",
      "   @ Base ./loading.jl:1428"
     ]
    }
   ],
   "source": [
    "fig = Figure(size=(480,320))\n",
    "index = Observable(1)\n",
    "ax = Axis(fig[1, 1],\n",
    "    xticks = MultiplesTicks(5, π, \"π\"),\n",
    "    xlabel=\"x\", ylabel=\"u\"\n",
    ")\n",
    "lines!(x, @lift(V[:,$index]))\n",
    "record(fig, \"_build/html/p6wave.mp4\", 1:4:size(V,2)+1) do i\n",
    "    index[] = i\n",
    "    ax.title = f\"t = {t[i]:.2f}\"\n",
    "end;"
   ]
  },
  {
   "cell_type": "markdown",
   "id": "a03902df",
   "metadata": {},
   "source": [
    "<video autoplay controls><source src=\"p6wave.mp4\" type=\"video/mp4\"></video>\n",
    "\n",
    "<!-- \n",
    "Unstable step size:\n",
    "\n",
    "```{code-cell}\n",
    "x,t,V = p6wave(1.9);\n",
    "fig = Figure()\n",
    "Axis3(fig[1, 1],\n",
    "    xticks = MultiplesTicks(5, π, \"π\"),\n",
    "    xlabel=\"x\", ylabel=\"t\", zlabel=\"u\", \n",
    "    azimuth=4.5, elevation=1.44,\n",
    ")\n",
    "gap = max(1,round(Int, 0.15/(t[2]-t[1])) - 1)\n",
    "surface!(x, t, V, colorrange=(0,1))\n",
    "[ lines!(x, fill(t[j], length(x)), V[:, j].+.01, color=:ivory) for j in 1:gap:size(V,2) ]\n",
    "fig\n",
    "``` -->"
   ]
  }
 ],
 "metadata": {
  "jupytext": {
   "cell_metadata_filter": "-all",
   "formats": "md:myst",
   "text_representation": {
    "extension": ".md",
    "format_name": "myst",
    "format_version": 0.13,
    "jupytext_version": "1.14.0"
   }
  },
  "kernelspec": {
   "display_name": "Julia 1.8.2",
   "language": "julia",
   "name": "julia-1.8"
  },
  "language_info": {
   "file_extension": ".jl",
   "mimetype": "application/julia",
   "name": "julia",
   "version": "1.8.2"
  },
  "source_map": [
   14,
   20,
   43,
   62,
   66,
   104,
   123,
   127,
   160,
   175,
   187
  ]
 },
 "nbformat": 4,
 "nbformat_minor": 5
}