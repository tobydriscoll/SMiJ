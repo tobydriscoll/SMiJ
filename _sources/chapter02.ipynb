{
 "cells": [
  {
   "cell_type": "markdown",
   "id": "9ab04e46",
   "metadata": {},
   "source": [
    "# Unbounded grids\n",
    "\n",
    "## p3: band-limited interpolation"
   ]
  },
  {
   "cell_type": "code",
   "execution_count": 1,
   "id": "ba7eeaf3",
   "metadata": {},
   "outputs": [],
   "source": [
    "h = 1\n",
    "xmax = 10\n",
    "x = -xmax:h:xmax                     # computational grid\n",
    "xx = -xmax-h/20:h/10:xmax+h/20       # plotting grid\n",
    "\n",
    "funs = [\n",
    "    (x -> float(x == 0), \"discrete delta\"),\n",
    "    (x -> float(abs(x) <= 3), \"square wave\"),\n",
    "    (x -> max(0, 1 - abs(x) / 3), \"tent function\")\n",
    "]\n",
    "results = []\n",
    "for (u,label) in funs\n",
    "    v = u.(x)\n",
    "    pp = [ sum(v[i] * sinc((ξ-x[i]) / h) for i in eachindex(x)) for ξ in xx ]\n",
    "    push!(results, (;v, pp, label))\n",
    "end"
   ]
  },
  {
   "cell_type": "code",
   "execution_count": 2,
   "id": "895f91ec",
   "metadata": {},
   "outputs": [
    {
     "ename": "LoadError",
     "evalue": "ArgumentError: Package CairoMakie [13f3f980-e62b-5c42-98c6-ff1f3baf88f0] is required but does not seem to be installed:\n - Run `Pkg.instantiate()` to install all recorded dependencies.\n",
     "output_type": "error",
     "traceback": [
      "ArgumentError: Package CairoMakie [13f3f980-e62b-5c42-98c6-ff1f3baf88f0] is required but does not seem to be installed:\n - Run `Pkg.instantiate()` to install all recorded dependencies.\n",
      "",
      "Stacktrace:",
      " [1] _require(pkg::Base.PkgId)",
      "   @ Base ./loading.jl:1306",
      " [2] _require_prelocked(uuidkey::Base.PkgId)",
      "   @ Base ./loading.jl:1200",
      " [3] macro expansion",
      "   @ ./loading.jl:1180 [inlined]",
      " [4] macro expansion",
      "   @ ./lock.jl:223 [inlined]",
      " [5] require(into::Module, mod::Symbol)",
      "   @ Base ./loading.jl:1144",
      " [6] eval",
      "   @ ./boot.jl:368 [inlined]",
      " [7] include_string(mapexpr::typeof(REPL.softscope), mod::Module, code::String, filename::String)",
      "   @ Base ./loading.jl:1428"
     ]
    }
   ],
   "source": [
    "using CairoMakie \n",
    "\n",
    "fig = Figure()\n",
    "nf = length(funs)\n",
    "for (i,r) in enumerate(results)\n",
    "    ax = Axis(\n",
    "        fig[i, 1],\n",
    "        xticksvisible=false, xticklabelsvisible=false,\n",
    "        yticks=[0,1]\n",
    "    )\n",
    "    (i==1) && (ax.title = \"Convergence of spectral differentiation\")\n",
    "    scatter!(x, r.v)\n",
    "    lines!(xx, r.pp)\n",
    "    limits!(ax, -xmax+0.5, xmax-0.5, -0.5, 1.5)\n",
    "    text!(-xmax+2, 1.05, text=r.label)\n",
    "end\n",
    "fig"
   ]
  },
  {
   "cell_type": "markdown",
   "id": "1de94487",
   "metadata": {},
   "source": [
    "## Gibbs phenomenon"
   ]
  },
  {
   "cell_type": "code",
   "execution_count": 3,
   "id": "2e5ba54e",
   "metadata": {},
   "outputs": [],
   "source": [
    "xmax = 10\n",
    "xx = range(-xmax,xmax,600)       # plotting grid\n",
    "\n",
    "h = [1, 1/2, 1/6]\n",
    "results = []\n",
    "for h in h\n",
    "    x = -xmax:h:xmax                     # computational grid\n",
    "    v = @. float(abs(x) ≤ 3)    \n",
    "    pp = [ sum(v[i] * sinc((ξ-x[i]) / h) for i in eachindex(x)) for ξ in xx ]\n",
    "    push!(results, (;x, v, pp))\n",
    "end"
   ]
  },
  {
   "cell_type": "code",
   "execution_count": 4,
   "id": "01f70dbc",
   "metadata": {},
   "outputs": [
    {
     "ename": "LoadError",
     "evalue": "UndefVarError: Figure not defined",
     "output_type": "error",
     "traceback": [
      "UndefVarError: Figure not defined",
      "",
      "Stacktrace:",
      " [1] top-level scope",
      "   @ In[4]:1",
      " [2] eval",
      "   @ ./boot.jl:368 [inlined]",
      " [3] include_string(mapexpr::typeof(REPL.softscope), mod::Module, code::String, filename::String)",
      "   @ Base ./loading.jl:1428"
     ]
    }
   ],
   "source": [
    "fig = Figure()\n",
    "for (i,r) in enumerate(results)\n",
    "   ax = Axis(\n",
    "        fig[i, 1],\n",
    "        xticksvisible=false, xticklabelsvisible=false,\n",
    "        yticks=[0,1]\n",
    "    )\n",
    "    (i==1) && (ax.title = \"Gibbs phenomenon\")\n",
    "    scatter!(r.x, r.v, markersize=9)\n",
    "    lines!(xx, r.pp)\n",
    "    limits!(ax, -xmax+0.5, xmax-0.5, -0.25, 1.25)\n",
    "end\n",
    "fig"
   ]
  }
 ],
 "metadata": {
  "jupytext": {
   "cell_metadata_filter": "-all",
   "formats": "md:myst",
   "text_representation": {
    "extension": ".md",
    "format_name": "myst",
    "format_version": 0.13,
    "jupytext_version": "1.14.0"
   }
  },
  "kernelspec": {
   "display_name": "Julia 1.8.2",
   "language": "julia",
   "name": "julia-1.8"
  },
  "language_info": {
   "file_extension": ".jl",
   "mimetype": "application/julia",
   "name": "julia",
   "version": "1.8.2"
  },
  "source_map": [
   14,
   20,
   39,
   57,
   61,
   75
  ]
 },
 "nbformat": 4,
 "nbformat_minor": 5
}