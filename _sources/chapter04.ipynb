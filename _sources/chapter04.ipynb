{
 "cells": [
  {
   "cell_type": "markdown",
   "id": "5d75345c",
   "metadata": {},
   "source": [
    "# Smoothness\n",
    "\n",
    "## p7: accuracy of periodic spectral differentiation"
   ]
  },
  {
   "cell_type": "code",
   "execution_count": 1,
   "id": "bba60ed6",
   "metadata": {},
   "outputs": [],
   "source": [
    "using LinearAlgebra,LaTeXStrings\n",
    "N = 6:2:50\n",
    "@assert(all(iseven.(N)),\"N must be even\")\n",
    "\n",
    "# Compute derivatives for various values of N:\n",
    "Nmax = maximum(N)\n",
    "data = [ \n",
    "    # uʹʹʹ in BV\n",
    "    (x -> abs(sin(x))^3,  x -> 3 * sin(x) * cos(x) * abs(sin(x)), \n",
    "        L\"|\\sin(x)|^3\"), \n",
    "    # C-infinity\n",
    "    (x -> exp(-sin(x / 2)^(-2)), \n",
    "        x -> 0.5exp(-sin(x / 2)^(-2)) * sin(x) / sin(x / 2)^4, \n",
    "        L\"\\exp(-\\sin^{-2}(x/2))\"), \n",
    "    # analytic in a strip\n",
    "    (x -> 1 / (1 + sin(x / 2)^2), \n",
    "        x -> -sin(x / 2) * cos(x / 2) / (1 + sin(x / 2)^2)^2,\n",
    "        L\"1/(1+\\sin^2(x/2))\" ),\n",
    "    # band-limited \n",
    "    (x -> sin(10x), x -> 10cos(10x),  L\"\\sin(10x)\")\n",
    "]\n",
    "\n",
    "results = []\n",
    "for (i, (fun,deriv,title)) in enumerate(data)\n",
    "    E = zeros(length(N))\n",
    "    for (k,N) in enumerate(N)\n",
    "        h = 2π / N\n",
    "        x = h * (1:N)\n",
    "        entry(k) = k==0 ? 0.0 : 0.5 * (-1)^k * cot(k * h / 2)\n",
    "        D = [ entry(mod(i-j, N)) for i in 1:N, j in 1:N ]\n",
    "        E[k] = norm(D*fun.(x) - deriv.(x), Inf)\n",
    "    end\n",
    "    push!(results, (;E, title))\n",
    "end"
   ]
  },
  {
   "cell_type": "code",
   "execution_count": 2,
   "id": "2fc9ca7a",
   "metadata": {},
   "outputs": [
    {
     "ename": "LoadError",
     "evalue": "ArgumentError: Package CairoMakie [13f3f980-e62b-5c42-98c6-ff1f3baf88f0] is required but does not seem to be installed:\n - Run `Pkg.instantiate()` to install all recorded dependencies.\n",
     "output_type": "error",
     "traceback": [
      "ArgumentError: Package CairoMakie [13f3f980-e62b-5c42-98c6-ff1f3baf88f0] is required but does not seem to be installed:\n - Run `Pkg.instantiate()` to install all recorded dependencies.\n",
      "",
      "Stacktrace:",
      " [1] _require(pkg::Base.PkgId)",
      "   @ Base ./loading.jl:1306",
      " [2] _require_prelocked(uuidkey::Base.PkgId)",
      "   @ Base ./loading.jl:1200",
      " [3] macro expansion",
      "   @ ./loading.jl:1180 [inlined]",
      " [4] macro expansion",
      "   @ ./lock.jl:223 [inlined]",
      " [5] require(into::Module, mod::Symbol)",
      "   @ Base ./loading.jl:1144",
      " [6] eval",
      "   @ ./boot.jl:368 [inlined]",
      " [7] include_string(mapexpr::typeof(REPL.softscope), mod::Module, code::String, filename::String)",
      "   @ Base ./loading.jl:1428"
     ]
    }
   ],
   "source": [
    "using CairoMakie\n",
    "\n",
    "fig = Figure()\n",
    "ax = [ Axis(fig[j,i], yscale=log10) for i in 1:2, j in 1:2 ]\n",
    "for (ax,r) in zip(vec(ax),results)\n",
    "    ax.title = r.title\n",
    "    scatterlines!(ax, N, r.E)\n",
    "end\n",
    "linkxaxes!(ax...)\n",
    "linkyaxes!(ax...)\n",
    "ax[1,1].ylabel = ax[1,2].ylabel = \"error\"\n",
    "ax[1,2].xlabel = ax[2,2].xlabel = L\"N\"\n",
    "fig"
   ]
  },
  {
   "cell_type": "markdown",
   "id": "085a58c8",
   "metadata": {},
   "source": [
    "## p8: eigenvalues of harmonic oscillator uʹʹ + x² u on ℝ"
   ]
  },
  {
   "cell_type": "code",
   "execution_count": 3,
   "id": "72f9de9d",
   "metadata": {},
   "outputs": [
    {
     "name": "stdout",
     "output_type": "stream",
     "text": [
      "┌───────────────────┬──────────────────┬──────────────────┬──────────────────┬──────────────────┬──────────────────┐\n",
      "│\u001b[1m             N = 6 \u001b[0m│\u001b[1m           N = 12 \u001b[0m│\u001b[1m           N = 18 \u001b[0m│\u001b[1m           N = 24 \u001b[0m│\u001b[1m           N = 30 \u001b[0m│\u001b[1m           N = 36 \u001b[0m│\n",
      "├───────────────────┼──────────────────┼──────────────────┼──────────────────┼──────────────────┼──────────────────┤\n",
      "│  0.46147291699547 │ 0.97813728129861 │ 0.99997000149932 │ 0.99999999762906 │ 1.00000000000002 │ 1.00000000000000 │\n",
      "│  7.49413462105052 │ 3.17160532064718 │ 3.00064406679583 │ 3.00000009841089 │ 3.00000000000075 │ 2.99999999999999 │\n",
      "│  7.72091605300656 │ 4.45593529116678 │ 4.99259532440771 │ 4.99999796527330 │ 4.99999999997561 │ 5.00000000000000 │\n",
      "│ 28.83248377834011 │ 8.92452905811993 │ 7.03957189798149 │ 7.00002499815656 │ 7.00000000050865 │ 7.00000000000001 │\n",
      "└───────────────────┴──────────────────┴──────────────────┴──────────────────┴──────────────────┴──────────────────┘\n"
     ]
    }
   ],
   "source": [
    "using PrettyTables\n",
    "\n",
    "N = 6:6:36\n",
    "L = 8                             # domain is [-L L], periodic\n",
    "λ = zeros(4,0)\n",
    "for N in N\n",
    "    h = 2π / N\n",
    "    x = [ (L/π)*(i*h - π) for i in 1:N ]\n",
    "    entry(k) = k==0 ? -π^2 / 3h^2 - 1/6 : -0.5 * (-1)^k / sin(h * k / 2)^2\n",
    "    D² = [(π / L)^2 * entry(mod(i-j, N)) for i in 1:N, j in 1:N]  # 2nd-order differentiation\n",
    "    λ = [ λ eigvals(-D² + diagm(x .^ 2))[1:4] ]\n",
    "end\n",
    "header = [\"N = $n\" for n in N]\n",
    "pretty_table(λ; header, formatters=ft_printf(\"%.14f\"))"
   ]
  }
 ],
 "metadata": {
  "jupytext": {
   "cell_metadata_filter": "-all",
   "formats": "md:myst",
   "text_representation": {
    "extension": ".md",
    "format_name": "myst",
    "format_version": 0.13,
    "jupytext_version": "1.14.0"
   }
  },
  "kernelspec": {
   "display_name": "Julia 1.8.2",
   "language": "julia",
   "name": "julia-1.8"
  },
  "language_info": {
   "file_extension": ".jl",
   "mimetype": "application/julia",
   "name": "julia",
   "version": "1.8.2"
  },
  "source_map": [
   14,
   20,
   57,
   71,
   75
  ]
 },
 "nbformat": 4,
 "nbformat_minor": 5
}