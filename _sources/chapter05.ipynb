{
 "cells": [
  {
   "cell_type": "markdown",
   "id": "2ee1b5b2",
   "metadata": {},
   "source": [
    "# Polynomials and clustered grids\n",
    "\n",
    "## p9: polynomial interpolation in equispaced and Chebyshev pts"
   ]
  },
  {
   "cell_type": "code",
   "execution_count": 1,
   "id": "434dabd2",
   "metadata": {},
   "outputs": [
    {
     "ename": "LoadError",
     "evalue": "LoadError: ArgumentError: Package FFTW [7a1cc6ca-52ef-59f5-83cd-3a7055c09341] is required but does not seem to be installed:\n - Run `Pkg.instantiate()` to install all recorded dependencies.\n\nin expression starting at /Users/driscoll/repos/SMiJ/pages/smij-functions.jl:1",
     "output_type": "error",
     "traceback": [
      "LoadError: ArgumentError: Package FFTW [7a1cc6ca-52ef-59f5-83cd-3a7055c09341] is required but does not seem to be installed:\n - Run `Pkg.instantiate()` to install all recorded dependencies.\n\nin expression starting at /Users/driscoll/repos/SMiJ/pages/smij-functions.jl:1",
      "",
      "Stacktrace:",
      " [1] _require(pkg::Base.PkgId)",
      "   @ Base ./loading.jl:1306",
      " [2] _require_prelocked(uuidkey::Base.PkgId)",
      "   @ Base ./loading.jl:1200",
      " [3] macro expansion",
      "   @ ./loading.jl:1180 [inlined]",
      " [4] macro expansion",
      "   @ ./lock.jl:223 [inlined]",
      " [5] require(into::Module, mod::Symbol)",
      "   @ Base ./loading.jl:1144",
      " [6] include(fname::String)",
      "   @ Base.MainInclude ./client.jl:476",
      " [7] top-level scope",
      "   @ In[1]:1",
      " [8] eval",
      "   @ ./boot.jl:368 [inlined]",
      " [9] include_string(mapexpr::typeof(REPL.softscope), mod::Module, code::String, filename::String)",
      "   @ Base ./loading.jl:1428"
     ]
    }
   ],
   "source": [
    "include(\"smij-functions.jl\");"
   ]
  },
  {
   "cell_type": "code",
   "execution_count": 2,
   "id": "92fbc93d",
   "metadata": {},
   "outputs": [
    {
     "ename": "LoadError",
     "evalue": "UndefVarError: polyinterp not defined",
     "output_type": "error",
     "traceback": [
      "UndefVarError: polyinterp not defined",
      "",
      "Stacktrace:",
      " [1] top-level scope",
      "   @ ./In[2]:14",
      " [2] eval",
      "   @ ./boot.jl:368 [inlined]",
      " [3] include_string(mapexpr::typeof(REPL.softscope), mod::Module, code::String, filename::String)",
      "   @ Base ./loading.jl:1428"
     ]
    }
   ],
   "source": [
    "using LinearAlgebra\n",
    "\n",
    "N = 16\n",
    "data = [\n",
    "    (@. -1 + 2*(0:N)/N, \"equispaced points\"),\n",
    "    (@. cospi((0:N)/N), \"Chebyshev points\"),\n",
    "]\n",
    "\n",
    "xx = -1.01:0.005:1.01\n",
    "results = []\n",
    "for (i,(x,label)) in enumerate(data)\n",
    "    u = @. 1 / (1 + 16 * x^2)\n",
    "    uu = @. 1 / (1 + 16 * xx^2)\n",
    "    p = polyinterp(x, u)              # interpolation\n",
    "    pp = p.(xx)                       # evaluation of interpolant\n",
    "    error = norm(uu - pp, Inf)\n",
    "    push!(results, (;x,u,pp,error,label))\n",
    "end"
   ]
  },
  {
   "cell_type": "code",
   "execution_count": 3,
   "id": "941c0f83",
   "metadata": {},
   "outputs": [
    {
     "ename": "LoadError",
     "evalue": "ArgumentError: Package CairoMakie [13f3f980-e62b-5c42-98c6-ff1f3baf88f0] is required but does not seem to be installed:\n - Run `Pkg.instantiate()` to install all recorded dependencies.\n",
     "output_type": "error",
     "traceback": [
      "ArgumentError: Package CairoMakie [13f3f980-e62b-5c42-98c6-ff1f3baf88f0] is required but does not seem to be installed:\n - Run `Pkg.instantiate()` to install all recorded dependencies.\n",
      "",
      "Stacktrace:",
      " [1] _require(pkg::Base.PkgId)",
      "   @ Base ./loading.jl:1306",
      " [2] _require_prelocked(uuidkey::Base.PkgId)",
      "   @ Base ./loading.jl:1200",
      " [3] macro expansion",
      "   @ ./loading.jl:1180 [inlined]",
      " [4] macro expansion",
      "   @ ./lock.jl:223 [inlined]",
      " [5] require(into::Module, mod::Symbol)",
      "   @ Base ./loading.jl:1144",
      " [6] eval",
      "   @ ./boot.jl:368 [inlined]",
      " [7] include_string(mapexpr::typeof(REPL.softscope), mod::Module, code::String, filename::String)",
      "   @ Base ./loading.jl:1428"
     ]
    }
   ],
   "source": [
    "using CairoMakie, PyFormattedStrings\n",
    "\n",
    "fig = Figure()\n",
    "for (i,r) in enumerate(results)\n",
    "    ax = Axis(fig[i, 1], title=r.label)\n",
    "    lines!(xx, r.pp)\n",
    "    scatter!(r.x, r.u)\n",
    "    limits!(-1.05, 1.05, -1, 1.5)\n",
    "    text!(-0.5, -0.5, text=f\"max error = {r.error:.5g}\")\n",
    "end\n",
    "fig"
   ]
  },
  {
   "cell_type": "markdown",
   "id": "1405d3ab",
   "metadata": {},
   "source": [
    "# p10: polynomials and corresponding equipotential curves"
   ]
  },
  {
   "cell_type": "code",
   "execution_count": 4,
   "id": "51393c3c",
   "metadata": {},
   "outputs": [
    {
     "ename": "LoadError",
     "evalue": "ArgumentError: Package Polynomials [f27b6e38-b328-58d1-80ce-0feddd5e7a45] is required but does not seem to be installed:\n - Run `Pkg.instantiate()` to install all recorded dependencies.\n",
     "output_type": "error",
     "traceback": [
      "ArgumentError: Package Polynomials [f27b6e38-b328-58d1-80ce-0feddd5e7a45] is required but does not seem to be installed:\n - Run `Pkg.instantiate()` to install all recorded dependencies.\n",
      "",
      "Stacktrace:",
      " [1] _require(pkg::Base.PkgId)",
      "   @ Base ./loading.jl:1306",
      " [2] _require_prelocked(uuidkey::Base.PkgId)",
      "   @ Base ./loading.jl:1200",
      " [3] macro expansion",
      "   @ ./loading.jl:1180 [inlined]",
      " [4] macro expansion",
      "   @ ./lock.jl:223 [inlined]",
      " [5] require(into::Module, mod::Symbol)",
      "   @ Base ./loading.jl:1144",
      " [6] eval",
      "   @ ./boot.jl:368 [inlined]",
      " [7] include_string(mapexpr::typeof(REPL.softscope), mod::Module, code::String, filename::String)",
      "   @ Base ./loading.jl:1428"
     ]
    }
   ],
   "source": [
    "using Polynomials\n",
    "\n",
    "N = 16\n",
    "data = [\n",
    "    (@. -1 + 2*(0:N)/N, \"equispaced points\"),\n",
    "    (@. cospi((0:N)/N), \"Chebyshev points\"),\n",
    "]\n",
    "\n",
    "xx = -1:0.005:1\n",
    "xc = -1.4:0.02:1.4\n",
    "yc = -1.12:0.02:1.12\n",
    "results = []\n",
    "for (i,(x,label)) in enumerate(data)\n",
    "    p = fromroots(x)\n",
    "    pp = p.(xx)\n",
    "    pz = [p(x + 1im*y) for x in xc, y in yc]\n",
    "    push!(results, (;x,pp,pz,label))\n",
    "end"
   ]
  },
  {
   "cell_type": "code",
   "execution_count": 5,
   "id": "0c6530d3",
   "metadata": {},
   "outputs": [
    {
     "ename": "LoadError",
     "evalue": "UndefVarError: Figure not defined",
     "output_type": "error",
     "traceback": [
      "UndefVarError: Figure not defined",
      "",
      "Stacktrace:",
      " [1] top-level scope",
      "   @ In[5]:1",
      " [2] eval",
      "   @ ./boot.jl:368 [inlined]",
      " [3] include_string(mapexpr::typeof(REPL.softscope), mod::Module, code::String, filename::String)",
      "   @ Base ./loading.jl:1428"
     ]
    }
   ],
   "source": [
    "fig = Figure()\n",
    "levels = 10.0 .^ (-4:0)\n",
    "for (i,r) in enumerate(results)\n",
    "    Axis(fig[i, 1], xticks=-1:0.5:1, title=r.label)\n",
    "    scatter!(r.x, zero(r.x))\n",
    "    lines!(xx, r.pp)\n",
    "    \n",
    "    Axis(fig[i, 2], xticks=-1:0.5:1, title=r.label)\n",
    "    scatter!(r.x, zero(r.x))\n",
    "    contour!(xc, yc, abs.(r.pz); levels, color=:black)\n",
    "    limits!(-1.4, 1.4, -1.12, 1.12)\n",
    "end\n",
    "fig"
   ]
  },
  {
   "cell_type": "code",
   "execution_count": null,
   "id": "06bd3059",
   "metadata": {},
   "outputs": [],
   "source": []
  }
 ],
 "metadata": {
  "jupytext": {
   "cell_metadata_filter": "-all",
   "formats": "md:myst",
   "text_representation": {
    "extension": ".md",
    "format_name": "myst",
    "format_version": 0.13,
    "jupytext_version": "1.14.0"
   }
  },
  "kernelspec": {
   "display_name": "Julia 1.8.2",
   "language": "julia",
   "name": "julia-1.8"
  },
  "language_info": {
   "file_extension": ".jl",
   "mimetype": "application/julia",
   "name": "julia",
   "version": "1.8.2"
  },
  "source_map": [
   14,
   20,
   24,
   45,
   57,
   61,
   82,
   98
  ]
 },
 "nbformat": 4,
 "nbformat_minor": 5
}