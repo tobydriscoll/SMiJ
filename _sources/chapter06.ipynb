{
 "cells": [
  {
   "cell_type": "markdown",
   "id": "0265b369",
   "metadata": {},
   "source": [
    "# Chebyshev diff mats\n",
    "\n",
    "## p11: Chebyshev differentation of a smooth function"
   ]
  },
  {
   "cell_type": "code",
   "execution_count": 1,
   "id": "48d6544d",
   "metadata": {},
   "outputs": [
    {
     "ename": "LoadError",
     "evalue": "LoadError: ArgumentError: Package FFTW [7a1cc6ca-52ef-59f5-83cd-3a7055c09341] is required but does not seem to be installed:\n - Run `Pkg.instantiate()` to install all recorded dependencies.\n\nin expression starting at /Users/driscoll/repos/SMiJ/pages/smij-functions.jl:1",
     "output_type": "error",
     "traceback": [
      "LoadError: ArgumentError: Package FFTW [7a1cc6ca-52ef-59f5-83cd-3a7055c09341] is required but does not seem to be installed:\n - Run `Pkg.instantiate()` to install all recorded dependencies.\n\nin expression starting at /Users/driscoll/repos/SMiJ/pages/smij-functions.jl:1",
      "",
      "Stacktrace:",
      " [1] _require(pkg::Base.PkgId)",
      "   @ Base ./loading.jl:1306",
      " [2] _require_prelocked(uuidkey::Base.PkgId)",
      "   @ Base ./loading.jl:1200",
      " [3] macro expansion",
      "   @ ./loading.jl:1180 [inlined]",
      " [4] macro expansion",
      "   @ ./lock.jl:223 [inlined]",
      " [5] require(into::Module, mod::Symbol)",
      "   @ Base ./loading.jl:1144",
      " [6] include(fname::String)",
      "   @ Base.MainInclude ./client.jl:476",
      " [7] top-level scope",
      "   @ In[1]:1",
      " [8] eval",
      "   @ ./boot.jl:368 [inlined]",
      " [9] include_string(mapexpr::typeof(REPL.softscope), mod::Module, code::String, filename::String)",
      "   @ Base ./loading.jl:1428"
     ]
    }
   ],
   "source": [
    "include(\"smij-functions.jl\");"
   ]
  },
  {
   "cell_type": "code",
   "execution_count": 2,
   "id": "781b04cf",
   "metadata": {},
   "outputs": [
    {
     "ename": "LoadError",
     "evalue": "UndefVarError: cheb not defined",
     "output_type": "error",
     "traceback": [
      "UndefVarError: cheb not defined",
      "",
      "Stacktrace:",
      " [1] top-level scope",
      "   @ ./In[2]:7",
      " [2] eval",
      "   @ ./boot.jl:368 [inlined]",
      " [3] include_string(mapexpr::typeof(REPL.softscope), mod::Module, code::String, filename::String)",
      "   @ Base ./loading.jl:1428"
     ]
    }
   ],
   "source": [
    "u = x -> exp(x) * sin(5x) \n",
    "uʹ = x -> exp(x) * (sin(5x) + 5 * cos(5x))\n",
    "xx = (-200:200) / 200\n",
    "vv = @. u.(xx)\n",
    "results = []\n",
    "for (i,N) in enumerate([10, 20])\n",
    "    D, x = cheb(N)\n",
    "    v = u.(x)\n",
    "    error = D*v - uʹ.(x)\n",
    "    ee = polyinterp(x, error).(xx)\n",
    "    push!(results, (;x,v,error,ee))\n",
    "end"
   ]
  },
  {
   "cell_type": "code",
   "execution_count": 3,
   "id": "01734674",
   "metadata": {},
   "outputs": [
    {
     "ename": "LoadError",
     "evalue": "ArgumentError: Package CairoMakie [13f3f980-e62b-5c42-98c6-ff1f3baf88f0] is required but does not seem to be installed:\n - Run `Pkg.instantiate()` to install all recorded dependencies.\n",
     "output_type": "error",
     "traceback": [
      "ArgumentError: Package CairoMakie [13f3f980-e62b-5c42-98c6-ff1f3baf88f0] is required but does not seem to be installed:\n - Run `Pkg.instantiate()` to install all recorded dependencies.\n",
      "",
      "Stacktrace:",
      " [1] _require(pkg::Base.PkgId)",
      "   @ Base ./loading.jl:1306",
      " [2] _require_prelocked(uuidkey::Base.PkgId)",
      "   @ Base ./loading.jl:1200",
      " [3] macro expansion",
      "   @ ./loading.jl:1180 [inlined]",
      " [4] macro expansion",
      "   @ ./lock.jl:223 [inlined]",
      " [5] require(into::Module, mod::Symbol)",
      "   @ Base ./loading.jl:1144",
      " [6] eval",
      "   @ ./boot.jl:368 [inlined]",
      " [7] include_string(mapexpr::typeof(REPL.softscope), mod::Module, code::String, filename::String)",
      "   @ Base ./loading.jl:1428"
     ]
    }
   ],
   "source": [
    "using CairoMakie\n",
    "fig = Figure()\n",
    "for (i,r) in enumerate(results)\n",
    "    N = length(r.x)\n",
    "    Axis(fig[i, 1], title=\"u(x),  N=$N\")\n",
    "    scatter!(r.x, r.v)\n",
    "    lines!(xx, vv)\n",
    "    Axis(fig[i, 2], title=\"error in uʹ(x),  N=$N\")\n",
    "    scatter!(r.x, r.error)\n",
    "    lines!(xx, r.ee)\n",
    "end\n",
    "fig"
   ]
  },
  {
   "cell_type": "markdown",
   "id": "b8bb9265",
   "metadata": {},
   "source": [
    "## p12: accuracy of Chebyshev spectral differentiation"
   ]
  },
  {
   "cell_type": "code",
   "execution_count": 4,
   "id": "df657e48",
   "metadata": {},
   "outputs": [
    {
     "ename": "LoadError",
     "evalue": "LoadError: UndefVarError: @L_str not defined\nin expression starting at In[4]:5",
     "output_type": "error",
     "traceback": [
      "LoadError: UndefVarError: @L_str not defined\nin expression starting at In[4]:5",
      "",
      "Stacktrace:",
      " [1] top-level scope",
      "   @ :0",
      " [2] eval",
      "   @ ./boot.jl:368 [inlined]",
      " [3] include_string(mapexpr::typeof(REPL.softscope), mod::Module, code::String, filename::String)",
      "   @ Base ./loading.jl:1428"
     ]
    }
   ],
   "source": [
    "N = 1:50\n",
    "# Compute derivatives for various values of N:\n",
    "data = [ \n",
    "    # uʹʹʹ in BV\n",
    "    (x -> abs(x)^3,  x -> 3x * abs(x), L\"|x|^3\"), \n",
    "    # C-infinity\n",
    "    (x -> exp(-x^(-2)), x -> 2exp(-x^(-2)) / x^3, L\"\\exp(-x^{-2})\"), \n",
    "    # analytic in [-1,1]\n",
    "    (x -> 1 / (1 + x^2), x -> -2x / (1 + x^2)^2, L\"1/(1+x^2)\"),\n",
    "    # polynomial \n",
    "    (x -> x^10, x -> 10x^9,  L\"x^{10}\")\n",
    "]\n",
    "\n",
    "results = []\n",
    "for (i, (fun,deriv,title)) in enumerate(data)\n",
    "    E = zeros(length(N))\n",
    "    for (k,N) in enumerate(N)\n",
    "        D, x = cheb(N)\n",
    "        E[k] = norm(D*fun.(x) - deriv.(x), Inf)\n",
    "    end\n",
    "    push!(results, (;E, title))\n",
    "end"
   ]
  },
  {
   "cell_type": "code",
   "execution_count": 5,
   "id": "b5079d75",
   "metadata": {},
   "outputs": [
    {
     "ename": "LoadError",
     "evalue": "UndefVarError: Figure not defined",
     "output_type": "error",
     "traceback": [
      "UndefVarError: Figure not defined",
      "",
      "Stacktrace:",
      " [1] top-level scope",
      "   @ In[5]:1",
      " [2] eval",
      "   @ ./boot.jl:368 [inlined]",
      " [3] include_string(mapexpr::typeof(REPL.softscope), mod::Module, code::String, filename::String)",
      "   @ Base ./loading.jl:1428"
     ]
    }
   ],
   "source": [
    "fig = Figure()\n",
    "ax = [ Axis(fig[j,i], yscale=log10) for i in 1:2, j in 1:2 ]\n",
    "for (ax,r) in zip(vec(ax),results)\n",
    "    ax.title = r.title\n",
    "    scatterlines!(ax, N, r.E)\n",
    "end\n",
    "linkxaxes!(ax...)\n",
    "linkyaxes!(ax...)\n",
    "ax[1,1].ylabel = ax[1,2].ylabel = \"error\"\n",
    "ax[1,2].xlabel = ax[2,2].xlabel = L\"N\"\n",
    "fig"
   ]
  },
  {
   "cell_type": "code",
   "execution_count": null,
   "id": "f2572ac5",
   "metadata": {},
   "outputs": [],
   "source": []
  }
 ],
 "metadata": {
  "jupytext": {
   "cell_metadata_filter": "-all",
   "formats": "md:myst",
   "text_representation": {
    "extension": ".md",
    "format_name": "myst",
    "format_version": 0.13,
    "jupytext_version": "1.14.0"
   }
  },
  "kernelspec": {
   "display_name": "Julia 1.8.2",
   "language": "julia",
   "name": "julia-1.8"
  },
  "language_info": {
   "file_extension": ".jl",
   "mimetype": "application/julia",
   "name": "julia",
   "version": "1.8.2"
  },
  "source_map": [
   14,
   20,
   24,
   39,
   52,
   56,
   81,
   95
  ]
 },
 "nbformat": 4,
 "nbformat_minor": 5
}